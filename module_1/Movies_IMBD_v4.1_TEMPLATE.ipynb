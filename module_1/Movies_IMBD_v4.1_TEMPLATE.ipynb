{
 "cells": [
  {
   "cell_type": "code",
   "execution_count": 426,
   "metadata": {
    "_cell_guid": "b1076dfc-b9ad-4769-8c92-a6c4dae69d19",
    "_uuid": "8f2839f25d086af736a60e9eeb907d3b93b6e0e5",
    "colab": {},
    "colab_type": "code",
    "id": "U2D2gTdJVp90"
   },
   "outputs": [],
   "source": [
    "import numpy as np\n",
    "import pandas as pd\n",
    "import seaborn as sns\n",
    "import matplotlib.pyplot as plt\n",
    "from collections import Counter\n",
    "from itertools import combinations"
   ]
  },
  {
   "cell_type": "code",
   "execution_count": 427,
   "metadata": {
    "_cell_guid": "79c7e3d0-c299-4dcb-8224-4455121ee9b0",
    "_uuid": "d629ff2d2480ee46fbb7e2d37f6b5fab8052498a",
    "colab": {},
    "colab_type": "code",
    "id": "oyGfxL3eVp9-"
   },
   "outputs": [
    {
     "data": {
      "text/html": [
       "<div>\n",
       "<style scoped>\n",
       "    .dataframe tbody tr th:only-of-type {\n",
       "        vertical-align: middle;\n",
       "    }\n",
       "\n",
       "    .dataframe tbody tr th {\n",
       "        vertical-align: top;\n",
       "    }\n",
       "\n",
       "    .dataframe thead th {\n",
       "        text-align: right;\n",
       "    }\n",
       "</style>\n",
       "<table border=\"1\" class=\"dataframe\">\n",
       "  <thead>\n",
       "    <tr style=\"text-align: right;\">\n",
       "      <th></th>\n",
       "      <th>imdb_id</th>\n",
       "      <th>budget</th>\n",
       "      <th>revenue</th>\n",
       "      <th>original_title</th>\n",
       "      <th>cast</th>\n",
       "      <th>director</th>\n",
       "      <th>tagline</th>\n",
       "      <th>overview</th>\n",
       "      <th>runtime</th>\n",
       "      <th>genres</th>\n",
       "      <th>production_companies</th>\n",
       "      <th>release_date</th>\n",
       "      <th>vote_average</th>\n",
       "      <th>release_year</th>\n",
       "    </tr>\n",
       "  </thead>\n",
       "  <tbody>\n",
       "    <tr>\n",
       "      <th>1295</th>\n",
       "      <td>tt1413495</td>\n",
       "      <td>35000000</td>\n",
       "      <td>13785015</td>\n",
       "      <td>Paranoia</td>\n",
       "      <td>Liam Hemsworth|Harrison Ford|Gary Oldman|Amber Heard|Josh Holloway</td>\n",
       "      <td>Robert Luketic</td>\n",
       "      <td>In a war between kings even a pawn can change the game.</td>\n",
       "      <td>An entry-level employee at a powerful corporation finds himself occupying a c...</td>\n",
       "      <td>106</td>\n",
       "      <td>Drama|Thriller</td>\n",
       "      <td>Gaumont|Kintop Pictures|Reliance Entertainment|Relativity Media|IM Global</td>\n",
       "      <td>8/14/2013</td>\n",
       "      <td>5.6</td>\n",
       "      <td>2013</td>\n",
       "    </tr>\n",
       "    <tr>\n",
       "      <th>1880</th>\n",
       "      <td>tt0190374</td>\n",
       "      <td>35000000</td>\n",
       "      <td>15185241</td>\n",
       "      <td>Dungeons &amp; Dragons</td>\n",
       "      <td>Justin Whalin|Jeremy Irons|Thora Birch|Bruce Payne|Zoe McLellan</td>\n",
       "      <td>Courtney Solomon</td>\n",
       "      <td>This is no game.</td>\n",
       "      <td>The classic role-playing game comes to life in this magical adventure. The em...</td>\n",
       "      <td>107</td>\n",
       "      <td>Action|Adventure|Fantasy|Science Fiction</td>\n",
       "      <td>New Line Cinema|Silver Pictures|Sweetpea Entertainment</td>\n",
       "      <td>12/8/2000</td>\n",
       "      <td>3.9</td>\n",
       "      <td>2000</td>\n",
       "    </tr>\n",
       "    <tr>\n",
       "      <th>991</th>\n",
       "      <td>tt1392170</td>\n",
       "      <td>75000000</td>\n",
       "      <td>691210692</td>\n",
       "      <td>The Hunger Games</td>\n",
       "      <td>Jennifer Lawrence|Josh Hutcherson|Liam Hemsworth|Woody Harrelson|Elizabeth Banks</td>\n",
       "      <td>Gary Ross</td>\n",
       "      <td>May The Odds Be Ever In Your Favor.</td>\n",
       "      <td>Every year in the ruins of what was once North America, the nation of Panem f...</td>\n",
       "      <td>142</td>\n",
       "      <td>Science Fiction|Adventure|Fantasy</td>\n",
       "      <td>Lionsgate|Color Force</td>\n",
       "      <td>3/12/2012</td>\n",
       "      <td>6.7</td>\n",
       "      <td>2012</td>\n",
       "    </tr>\n",
       "    <tr>\n",
       "      <th>1204</th>\n",
       "      <td>tt1854564</td>\n",
       "      <td>90000000</td>\n",
       "      <td>174578751</td>\n",
       "      <td>Percy Jackson: Sea of Monsters</td>\n",
       "      <td>Logan Lerman|Alexandra Daddario|Douglas Smith|Leven Rambin|Brandon T. Jackson</td>\n",
       "      <td>Thor Freudenthal</td>\n",
       "      <td>Where There Are Gods, There Are Monsters.</td>\n",
       "      <td>In their quest to confront the ultimate evil, Percy and his friends battle sw...</td>\n",
       "      <td>106</td>\n",
       "      <td>Adventure|Family|Fantasy</td>\n",
       "      <td>1492 Pictures|Dune Entertainment|Fox 2000 Pictures|Sunswept Entertainment|Dun...</td>\n",
       "      <td>8/7/2013</td>\n",
       "      <td>5.9</td>\n",
       "      <td>2013</td>\n",
       "    </tr>\n",
       "    <tr>\n",
       "      <th>1762</th>\n",
       "      <td>tt0489237</td>\n",
       "      <td>20000000</td>\n",
       "      <td>47738099</td>\n",
       "      <td>The Nanny Diaries</td>\n",
       "      <td>Scarlett Johansson|Laura Linney|Chris Evans|Paul Giamatti|Nicholas Art</td>\n",
       "      <td>Shari Springer Berman|Robert Pulcini</td>\n",
       "      <td>A comedy about life at the top, as seen from the bottom.</td>\n",
       "      <td>A college graduate goes to work as a nanny for a rich New York family. Enscon...</td>\n",
       "      <td>106</td>\n",
       "      <td>Comedy|Drama|Romance</td>\n",
       "      <td>The Weinstein Company|FilmColony</td>\n",
       "      <td>8/24/2007</td>\n",
       "      <td>6.0</td>\n",
       "      <td>2007</td>\n",
       "    </tr>\n",
       "  </tbody>\n",
       "</table>\n",
       "</div>"
      ],
      "text/plain": [
       "        imdb_id    budget    revenue                  original_title  \\\n",
       "1295  tt1413495  35000000   13785015                        Paranoia   \n",
       "1880  tt0190374  35000000   15185241              Dungeons & Dragons   \n",
       "991   tt1392170  75000000  691210692                The Hunger Games   \n",
       "1204  tt1854564  90000000  174578751  Percy Jackson: Sea of Monsters   \n",
       "1762  tt0489237  20000000   47738099               The Nanny Diaries   \n",
       "\n",
       "                                                                                  cast  \\\n",
       "1295                Liam Hemsworth|Harrison Ford|Gary Oldman|Amber Heard|Josh Holloway   \n",
       "1880                   Justin Whalin|Jeremy Irons|Thora Birch|Bruce Payne|Zoe McLellan   \n",
       "991   Jennifer Lawrence|Josh Hutcherson|Liam Hemsworth|Woody Harrelson|Elizabeth Banks   \n",
       "1204     Logan Lerman|Alexandra Daddario|Douglas Smith|Leven Rambin|Brandon T. Jackson   \n",
       "1762            Scarlett Johansson|Laura Linney|Chris Evans|Paul Giamatti|Nicholas Art   \n",
       "\n",
       "                                  director  \\\n",
       "1295                        Robert Luketic   \n",
       "1880                      Courtney Solomon   \n",
       "991                              Gary Ross   \n",
       "1204                      Thor Freudenthal   \n",
       "1762  Shari Springer Berman|Robert Pulcini   \n",
       "\n",
       "                                                       tagline  \\\n",
       "1295   In a war between kings even a pawn can change the game.   \n",
       "1880                                          This is no game.   \n",
       "991                        May The Odds Be Ever In Your Favor.   \n",
       "1204                 Where There Are Gods, There Are Monsters.   \n",
       "1762  A comedy about life at the top, as seen from the bottom.   \n",
       "\n",
       "                                                                              overview  \\\n",
       "1295  An entry-level employee at a powerful corporation finds himself occupying a c...   \n",
       "1880  The classic role-playing game comes to life in this magical adventure. The em...   \n",
       "991   Every year in the ruins of what was once North America, the nation of Panem f...   \n",
       "1204  In their quest to confront the ultimate evil, Percy and his friends battle sw...   \n",
       "1762  A college graduate goes to work as a nanny for a rich New York family. Enscon...   \n",
       "\n",
       "      runtime                                    genres  \\\n",
       "1295      106                            Drama|Thriller   \n",
       "1880      107  Action|Adventure|Fantasy|Science Fiction   \n",
       "991       142         Science Fiction|Adventure|Fantasy   \n",
       "1204      106                  Adventure|Family|Fantasy   \n",
       "1762      106                      Comedy|Drama|Romance   \n",
       "\n",
       "                                                                  production_companies  \\\n",
       "1295         Gaumont|Kintop Pictures|Reliance Entertainment|Relativity Media|IM Global   \n",
       "1880                            New Line Cinema|Silver Pictures|Sweetpea Entertainment   \n",
       "991                                                              Lionsgate|Color Force   \n",
       "1204  1492 Pictures|Dune Entertainment|Fox 2000 Pictures|Sunswept Entertainment|Dun...   \n",
       "1762                                                  The Weinstein Company|FilmColony   \n",
       "\n",
       "     release_date  vote_average  release_year  \n",
       "1295    8/14/2013           5.6          2013  \n",
       "1880    12/8/2000           3.9          2000  \n",
       "991     3/12/2012           6.7          2012  \n",
       "1204     8/7/2013           5.9          2013  \n",
       "1762    8/24/2007           6.0          2007  "
      ]
     },
     "execution_count": 427,
     "metadata": {},
     "output_type": "execute_result"
    }
   ],
   "source": [
    "data = pd.read_csv('movie_bd_v5.csv')\n",
    "data.sample(5)"
   ]
  },
  {
   "cell_type": "code",
   "execution_count": 428,
   "metadata": {
    "colab": {},
    "colab_type": "code",
    "id": "CoYUnagMVp-C"
   },
   "outputs": [
    {
     "data": {
      "text/html": [
       "<div>\n",
       "<style scoped>\n",
       "    .dataframe tbody tr th:only-of-type {\n",
       "        vertical-align: middle;\n",
       "    }\n",
       "\n",
       "    .dataframe tbody tr th {\n",
       "        vertical-align: top;\n",
       "    }\n",
       "\n",
       "    .dataframe thead th {\n",
       "        text-align: right;\n",
       "    }\n",
       "</style>\n",
       "<table border=\"1\" class=\"dataframe\">\n",
       "  <thead>\n",
       "    <tr style=\"text-align: right;\">\n",
       "      <th></th>\n",
       "      <th>budget</th>\n",
       "      <th>revenue</th>\n",
       "      <th>runtime</th>\n",
       "      <th>vote_average</th>\n",
       "      <th>release_year</th>\n",
       "    </tr>\n",
       "  </thead>\n",
       "  <tbody>\n",
       "    <tr>\n",
       "      <th>count</th>\n",
       "      <td>1.889000e+03</td>\n",
       "      <td>1.889000e+03</td>\n",
       "      <td>1889.000000</td>\n",
       "      <td>1889.000000</td>\n",
       "      <td>1889.000000</td>\n",
       "    </tr>\n",
       "    <tr>\n",
       "      <th>mean</th>\n",
       "      <td>5.431083e+07</td>\n",
       "      <td>1.553653e+08</td>\n",
       "      <td>109.658549</td>\n",
       "      <td>6.140762</td>\n",
       "      <td>2007.860773</td>\n",
       "    </tr>\n",
       "    <tr>\n",
       "      <th>std</th>\n",
       "      <td>4.858721e+07</td>\n",
       "      <td>2.146698e+08</td>\n",
       "      <td>18.017041</td>\n",
       "      <td>0.764763</td>\n",
       "      <td>4.468841</td>\n",
       "    </tr>\n",
       "    <tr>\n",
       "      <th>min</th>\n",
       "      <td>5.000000e+06</td>\n",
       "      <td>2.033165e+06</td>\n",
       "      <td>63.000000</td>\n",
       "      <td>3.300000</td>\n",
       "      <td>2000.000000</td>\n",
       "    </tr>\n",
       "    <tr>\n",
       "      <th>25%</th>\n",
       "      <td>2.000000e+07</td>\n",
       "      <td>3.456058e+07</td>\n",
       "      <td>97.000000</td>\n",
       "      <td>5.600000</td>\n",
       "      <td>2004.000000</td>\n",
       "    </tr>\n",
       "    <tr>\n",
       "      <th>50%</th>\n",
       "      <td>3.800000e+07</td>\n",
       "      <td>8.361541e+07</td>\n",
       "      <td>107.000000</td>\n",
       "      <td>6.100000</td>\n",
       "      <td>2008.000000</td>\n",
       "    </tr>\n",
       "    <tr>\n",
       "      <th>75%</th>\n",
       "      <td>7.200000e+07</td>\n",
       "      <td>1.782626e+08</td>\n",
       "      <td>120.000000</td>\n",
       "      <td>6.600000</td>\n",
       "      <td>2012.000000</td>\n",
       "    </tr>\n",
       "    <tr>\n",
       "      <th>max</th>\n",
       "      <td>3.800000e+08</td>\n",
       "      <td>2.781506e+09</td>\n",
       "      <td>214.000000</td>\n",
       "      <td>8.100000</td>\n",
       "      <td>2015.000000</td>\n",
       "    </tr>\n",
       "  </tbody>\n",
       "</table>\n",
       "</div>"
      ],
      "text/plain": [
       "             budget       revenue      runtime  vote_average  release_year\n",
       "count  1.889000e+03  1.889000e+03  1889.000000   1889.000000   1889.000000\n",
       "mean   5.431083e+07  1.553653e+08   109.658549      6.140762   2007.860773\n",
       "std    4.858721e+07  2.146698e+08    18.017041      0.764763      4.468841\n",
       "min    5.000000e+06  2.033165e+06    63.000000      3.300000   2000.000000\n",
       "25%    2.000000e+07  3.456058e+07    97.000000      5.600000   2004.000000\n",
       "50%    3.800000e+07  8.361541e+07   107.000000      6.100000   2008.000000\n",
       "75%    7.200000e+07  1.782626e+08   120.000000      6.600000   2012.000000\n",
       "max    3.800000e+08  2.781506e+09   214.000000      8.100000   2015.000000"
      ]
     },
     "execution_count": 428,
     "metadata": {},
     "output_type": "execute_result"
    }
   ],
   "source": [
    "data.describe()"
   ]
  },
  {
   "cell_type": "markdown",
   "metadata": {
    "colab_type": "text",
    "id": "DTIt7ezGVp-G"
   },
   "source": [
    "# Предобработка"
   ]
  },
  {
   "cell_type": "code",
   "execution_count": 429,
   "metadata": {
    "colab": {},
    "colab_type": "code",
    "id": "jNb40DwKVp-H"
   },
   "outputs": [],
   "source": [
    "answers = {} # создадим словарь для ответов\n",
    "\n",
    "# парсим дату выхода\n",
    "data['release_date'] = pd.to_datetime(data['release_date'])\n",
    "\n",
    "# добавляем колонку \"Прибыль\"\n",
    "data['profit'] = data['revenue'] - data['budget']\n",
    "data.sample(5)\n",
    "\n",
    "\n",
    "def split_by_column(data, column, sep):\n",
    "    \"\"\" Функция разделяет строки списка на отдельные строки для каждого элемента из переданной колонки\n",
    "    Принимает на вход аргументы: \n",
    "    data - исходный датафрейм, \n",
    "    column - колонка, по элементам которой выполняется разделение, \n",
    "    sep - разделитель внутри колонки\n",
    "    \"\"\"\n",
    "    splitted_data = data.copy()\n",
    "    splitted_data[column+'_splitted'] = data[column].str.split(sep, expand=False)\n",
    "    splitted_data = splitted_data.explode(column+'_splitted')\n",
    "    return splitted_data\n",
    "\n",
    "\n",
    "def get_combinations_list(data):\n",
    "    \"\"\"Функция формирует Series с парами актёров, снявшихся в одном фильме\"\"\"\n",
    "    combinations_list = data['cast'].str.split('|', expand=False)\n",
    "    combinations_list = combinations_list.apply(combinations, args=(2,)).apply(list)\n",
    "    combinations_list = combinations_list.explode()\n",
    "    return combinations_list"
   ]
  },
  {
   "cell_type": "markdown",
   "metadata": {
    "colab_type": "text",
    "id": "YxZaH-nPVp-L"
   },
   "source": [
    "# 1. У какого фильма из списка самый большой бюджет?"
   ]
  },
  {
   "cell_type": "markdown",
   "metadata": {
    "colab_type": "text",
    "id": "Nd-G5gX6Vp-M"
   },
   "source": [
    "Использовать варианты ответов в коде решения запрещено.    \n",
    "Вы думаете и в жизни у вас будут варианты ответов?)"
   ]
  },
  {
   "cell_type": "code",
   "execution_count": 430,
   "metadata": {
    "colab": {},
    "colab_type": "code",
    "id": "uVnXAY5RVp-O"
   },
   "outputs": [],
   "source": [
    "answers['1'] = '5. Pirates of the Caribbean: On Stranger Tides (tt1298650)'\n",
    "# +"
   ]
  },
  {
   "cell_type": "code",
   "execution_count": 431,
   "metadata": {
    "colab": {},
    "colab_type": "code",
    "id": "dZwb3m28Vp-S"
   },
   "outputs": [
    {
     "data": {
      "text/plain": [
       "imdb_id                                             tt1298650\n",
       "original_title    Pirates of the Caribbean: On Stranger Tides\n",
       "Name: 723, dtype: object"
      ]
     },
     "execution_count": 431,
     "metadata": {},
     "output_type": "execute_result"
    }
   ],
   "source": [
    "data.iloc[data['budget'].idxmax()][['imdb_id', 'original_title']]"
   ]
  },
  {
   "cell_type": "markdown",
   "metadata": {
    "colab_type": "text",
    "id": "K7L3nbRXVp-X"
   },
   "source": [
    "ВАРИАНТ 2"
   ]
  },
  {
   "cell_type": "code",
   "execution_count": 432,
   "metadata": {
    "colab": {},
    "colab_type": "code",
    "id": "OGaoQI7rVp-X"
   },
   "outputs": [
    {
     "data": {
      "text/html": [
       "<div>\n",
       "<style scoped>\n",
       "    .dataframe tbody tr th:only-of-type {\n",
       "        vertical-align: middle;\n",
       "    }\n",
       "\n",
       "    .dataframe tbody tr th {\n",
       "        vertical-align: top;\n",
       "    }\n",
       "\n",
       "    .dataframe thead th {\n",
       "        text-align: right;\n",
       "    }\n",
       "</style>\n",
       "<table border=\"1\" class=\"dataframe\">\n",
       "  <thead>\n",
       "    <tr style=\"text-align: right;\">\n",
       "      <th></th>\n",
       "      <th>imdb_id</th>\n",
       "      <th>original_title</th>\n",
       "    </tr>\n",
       "  </thead>\n",
       "  <tbody>\n",
       "    <tr>\n",
       "      <th>723</th>\n",
       "      <td>tt1298650</td>\n",
       "      <td>Pirates of the Caribbean: On Stranger Tides</td>\n",
       "    </tr>\n",
       "  </tbody>\n",
       "</table>\n",
       "</div>"
      ],
      "text/plain": [
       "       imdb_id                               original_title\n",
       "723  tt1298650  Pirates of the Caribbean: On Stranger Tides"
      ]
     },
     "execution_count": 432,
     "metadata": {},
     "output_type": "execute_result"
    }
   ],
   "source": [
    "data[data['budget'] == data['budget'].max()][['imdb_id', 'original_title']]"
   ]
  },
  {
   "cell_type": "markdown",
   "metadata": {
    "colab_type": "text",
    "id": "FNRbbI3vVp-c"
   },
   "source": [
    "# 2. Какой из фильмов самый длительный (в минутах)?"
   ]
  },
  {
   "cell_type": "code",
   "execution_count": 433,
   "metadata": {
    "colab": {},
    "colab_type": "code",
    "id": "vHAoEXNTVp-d"
   },
   "outputs": [],
   "source": [
    "answers['2'] = '2. Gods and Generals (tt0279111)'\n",
    "# +"
   ]
  },
  {
   "cell_type": "code",
   "execution_count": 434,
   "metadata": {
    "colab": {},
    "colab_type": "code",
    "id": "ot-VX2XrVp-g"
   },
   "outputs": [
    {
     "data": {
      "text/plain": [
       "imdb_id                   tt0279111\n",
       "original_title    Gods and Generals\n",
       "Name: 1157, dtype: object"
      ]
     },
     "execution_count": 434,
     "metadata": {},
     "output_type": "execute_result"
    }
   ],
   "source": [
    "data.iloc[data['runtime'].idxmax()][['imdb_id', 'original_title']]"
   ]
  },
  {
   "cell_type": "markdown",
   "metadata": {},
   "source": [
    "ВАРИАНТ 2"
   ]
  },
  {
   "cell_type": "code",
   "execution_count": 435,
   "metadata": {},
   "outputs": [
    {
     "data": {
      "text/html": [
       "<div>\n",
       "<style scoped>\n",
       "    .dataframe tbody tr th:only-of-type {\n",
       "        vertical-align: middle;\n",
       "    }\n",
       "\n",
       "    .dataframe tbody tr th {\n",
       "        vertical-align: top;\n",
       "    }\n",
       "\n",
       "    .dataframe thead th {\n",
       "        text-align: right;\n",
       "    }\n",
       "</style>\n",
       "<table border=\"1\" class=\"dataframe\">\n",
       "  <thead>\n",
       "    <tr style=\"text-align: right;\">\n",
       "      <th></th>\n",
       "      <th>imdb_id</th>\n",
       "      <th>original_title</th>\n",
       "    </tr>\n",
       "  </thead>\n",
       "  <tbody>\n",
       "    <tr>\n",
       "      <th>1157</th>\n",
       "      <td>tt0279111</td>\n",
       "      <td>Gods and Generals</td>\n",
       "    </tr>\n",
       "  </tbody>\n",
       "</table>\n",
       "</div>"
      ],
      "text/plain": [
       "        imdb_id     original_title\n",
       "1157  tt0279111  Gods and Generals"
      ]
     },
     "execution_count": 435,
     "metadata": {},
     "output_type": "execute_result"
    }
   ],
   "source": [
    "data[data['runtime'] == data['runtime'].max()][['imdb_id', 'original_title']]"
   ]
  },
  {
   "cell_type": "markdown",
   "metadata": {
    "colab_type": "text",
    "id": "bapLlpW8Vp-k"
   },
   "source": [
    "# 3. Какой из фильмов самый короткий (в минутах)?\n",
    "\n",
    "\n",
    "\n"
   ]
  },
  {
   "cell_type": "code",
   "execution_count": 436,
   "metadata": {
    "colab": {},
    "colab_type": "code",
    "id": "YBxaSHuAVp-l"
   },
   "outputs": [],
   "source": [
    "answers['3'] = '3. Winnie the Pooh (tt1449283)'\n",
    "# +"
   ]
  },
  {
   "cell_type": "code",
   "execution_count": 437,
   "metadata": {},
   "outputs": [
    {
     "data": {
      "text/plain": [
       "imdb_id                 tt1449283\n",
       "original_title    Winnie the Pooh\n",
       "Name: 768, dtype: object"
      ]
     },
     "execution_count": 437,
     "metadata": {},
     "output_type": "execute_result"
    }
   ],
   "source": [
    "data.iloc[data['runtime'].idxmin()][['imdb_id', 'original_title']]"
   ]
  },
  {
   "cell_type": "markdown",
   "metadata": {},
   "source": [
    "ВАРИАНТ 2"
   ]
  },
  {
   "cell_type": "code",
   "execution_count": 438,
   "metadata": {},
   "outputs": [
    {
     "data": {
      "text/html": [
       "<div>\n",
       "<style scoped>\n",
       "    .dataframe tbody tr th:only-of-type {\n",
       "        vertical-align: middle;\n",
       "    }\n",
       "\n",
       "    .dataframe tbody tr th {\n",
       "        vertical-align: top;\n",
       "    }\n",
       "\n",
       "    .dataframe thead th {\n",
       "        text-align: right;\n",
       "    }\n",
       "</style>\n",
       "<table border=\"1\" class=\"dataframe\">\n",
       "  <thead>\n",
       "    <tr style=\"text-align: right;\">\n",
       "      <th></th>\n",
       "      <th>imdb_id</th>\n",
       "      <th>original_title</th>\n",
       "    </tr>\n",
       "  </thead>\n",
       "  <tbody>\n",
       "    <tr>\n",
       "      <th>768</th>\n",
       "      <td>tt1449283</td>\n",
       "      <td>Winnie the Pooh</td>\n",
       "    </tr>\n",
       "  </tbody>\n",
       "</table>\n",
       "</div>"
      ],
      "text/plain": [
       "       imdb_id   original_title\n",
       "768  tt1449283  Winnie the Pooh"
      ]
     },
     "execution_count": 438,
     "metadata": {},
     "output_type": "execute_result"
    }
   ],
   "source": [
    "data[data['runtime'] == data['runtime'].min()][['imdb_id', 'original_title']]"
   ]
  },
  {
   "cell_type": "markdown",
   "metadata": {
    "colab_type": "text",
    "id": "TfQbxbfNVp-p"
   },
   "source": [
    "# 4. Какова средняя длительность фильмов?\n"
   ]
  },
  {
   "cell_type": "code",
   "execution_count": 439,
   "metadata": {
    "colab": {},
    "colab_type": "code",
    "id": "5K6dKZYVVp-q"
   },
   "outputs": [],
   "source": [
    "answers['4'] = '2. 110'\n",
    "# +"
   ]
  },
  {
   "cell_type": "code",
   "execution_count": 440,
   "metadata": {},
   "outputs": [
    {
     "data": {
      "text/plain": [
       "110"
      ]
     },
     "execution_count": 440,
     "metadata": {},
     "output_type": "execute_result"
    }
   ],
   "source": [
    "round(data['runtime'].mean())"
   ]
  },
  {
   "cell_type": "markdown",
   "metadata": {
    "colab_type": "text",
    "id": "r5TvbnT_Vp-u"
   },
   "source": [
    "# 5. Каково медианное значение длительности фильмов? "
   ]
  },
  {
   "cell_type": "code",
   "execution_count": 441,
   "metadata": {
    "colab": {},
    "colab_type": "code",
    "id": "iBROplKnVp-v"
   },
   "outputs": [],
   "source": [
    "answers['5'] = '1. 107'\n",
    "# +"
   ]
  },
  {
   "cell_type": "code",
   "execution_count": 442,
   "metadata": {},
   "outputs": [
    {
     "data": {
      "text/plain": [
       "107.0"
      ]
     },
     "execution_count": 442,
     "metadata": {},
     "output_type": "execute_result"
    }
   ],
   "source": [
    "data['runtime'].median()"
   ]
  },
  {
   "cell_type": "markdown",
   "metadata": {
    "colab_type": "text",
    "id": "39P-deDSVp-y"
   },
   "source": [
    "# 6. Какой самый прибыльный фильм?\n",
    "#### Внимание! Здесь и далее под «прибылью» или «убытками» понимается разность между сборами и бюджетом фильма. (прибыль = сборы - бюджет) в нашем датасете это будет (profit = revenue - budget) "
   ]
  },
  {
   "cell_type": "code",
   "execution_count": 443,
   "metadata": {
    "colab": {},
    "colab_type": "code",
    "id": "UYZh4T9WVp-y"
   },
   "outputs": [],
   "source": [
    "answers['6'] = '5. Avatar (tt0499549)'\n",
    "# +"
   ]
  },
  {
   "cell_type": "code",
   "execution_count": 444,
   "metadata": {},
   "outputs": [
    {
     "data": {
      "text/plain": [
       "imdb_id           tt0499549\n",
       "original_title       Avatar\n",
       "Name: 239, dtype: object"
      ]
     },
     "execution_count": 444,
     "metadata": {},
     "output_type": "execute_result"
    }
   ],
   "source": [
    "data.iloc[data['profit'].idxmax()][['imdb_id', 'original_title']]"
   ]
  },
  {
   "cell_type": "markdown",
   "metadata": {},
   "source": [
    "ВАРИАНТ 2"
   ]
  },
  {
   "cell_type": "code",
   "execution_count": 445,
   "metadata": {},
   "outputs": [
    {
     "data": {
      "text/html": [
       "<div>\n",
       "<style scoped>\n",
       "    .dataframe tbody tr th:only-of-type {\n",
       "        vertical-align: middle;\n",
       "    }\n",
       "\n",
       "    .dataframe tbody tr th {\n",
       "        vertical-align: top;\n",
       "    }\n",
       "\n",
       "    .dataframe thead th {\n",
       "        text-align: right;\n",
       "    }\n",
       "</style>\n",
       "<table border=\"1\" class=\"dataframe\">\n",
       "  <thead>\n",
       "    <tr style=\"text-align: right;\">\n",
       "      <th></th>\n",
       "      <th>imdb_id</th>\n",
       "      <th>original_title</th>\n",
       "    </tr>\n",
       "  </thead>\n",
       "  <tbody>\n",
       "    <tr>\n",
       "      <th>239</th>\n",
       "      <td>tt0499549</td>\n",
       "      <td>Avatar</td>\n",
       "    </tr>\n",
       "  </tbody>\n",
       "</table>\n",
       "</div>"
      ],
      "text/plain": [
       "       imdb_id original_title\n",
       "239  tt0499549         Avatar"
      ]
     },
     "execution_count": 445,
     "metadata": {},
     "output_type": "execute_result"
    }
   ],
   "source": [
    "data[data['profit'] == data['profit'].max()][['imdb_id', 'original_title']]"
   ]
  },
  {
   "cell_type": "markdown",
   "metadata": {
    "colab_type": "text",
    "id": "M99JmIX4Vp-2"
   },
   "source": [
    "# 7. Какой фильм самый убыточный? "
   ]
  },
  {
   "cell_type": "code",
   "execution_count": 446,
   "metadata": {
    "colab": {},
    "colab_type": "code",
    "id": "w-D2m4XPVp-3"
   },
   "outputs": [],
   "source": [
    "answers['7'] = '5. The Lone Ranger (tt1210819)'\n",
    "# +"
   ]
  },
  {
   "cell_type": "code",
   "execution_count": 447,
   "metadata": {},
   "outputs": [
    {
     "data": {
      "text/plain": [
       "imdb_id                 tt1210819\n",
       "original_title    The Lone Ranger\n",
       "Name: 1245, dtype: object"
      ]
     },
     "execution_count": 447,
     "metadata": {},
     "output_type": "execute_result"
    }
   ],
   "source": [
    "data.iloc[data['profit'].idxmin()][['imdb_id', 'original_title']]"
   ]
  },
  {
   "cell_type": "markdown",
   "metadata": {},
   "source": [
    "ВАРИАНТ 2"
   ]
  },
  {
   "cell_type": "code",
   "execution_count": 448,
   "metadata": {},
   "outputs": [
    {
     "data": {
      "text/html": [
       "<div>\n",
       "<style scoped>\n",
       "    .dataframe tbody tr th:only-of-type {\n",
       "        vertical-align: middle;\n",
       "    }\n",
       "\n",
       "    .dataframe tbody tr th {\n",
       "        vertical-align: top;\n",
       "    }\n",
       "\n",
       "    .dataframe thead th {\n",
       "        text-align: right;\n",
       "    }\n",
       "</style>\n",
       "<table border=\"1\" class=\"dataframe\">\n",
       "  <thead>\n",
       "    <tr style=\"text-align: right;\">\n",
       "      <th></th>\n",
       "      <th>imdb_id</th>\n",
       "      <th>original_title</th>\n",
       "    </tr>\n",
       "  </thead>\n",
       "  <tbody>\n",
       "    <tr>\n",
       "      <th>1245</th>\n",
       "      <td>tt1210819</td>\n",
       "      <td>The Lone Ranger</td>\n",
       "    </tr>\n",
       "  </tbody>\n",
       "</table>\n",
       "</div>"
      ],
      "text/plain": [
       "        imdb_id   original_title\n",
       "1245  tt1210819  The Lone Ranger"
      ]
     },
     "execution_count": 448,
     "metadata": {},
     "output_type": "execute_result"
    }
   ],
   "source": [
    "data[data['profit'] == data['profit'].min()][['imdb_id', 'original_title']]"
   ]
  },
  {
   "cell_type": "markdown",
   "metadata": {
    "colab_type": "text",
    "id": "wEOM5ERVVp-6"
   },
   "source": [
    "# 8. У скольких фильмов из датасета объем сборов оказался выше бюджета?"
   ]
  },
  {
   "cell_type": "code",
   "execution_count": 449,
   "metadata": {
    "colab": {},
    "colab_type": "code",
    "id": "y00_7HD6Vp-7"
   },
   "outputs": [],
   "source": [
    "answers['8'] = '1. 1478'\n",
    "# +"
   ]
  },
  {
   "cell_type": "code",
   "execution_count": 450,
   "metadata": {},
   "outputs": [
    {
     "data": {
      "text/plain": [
       "1478"
      ]
     },
     "execution_count": 450,
     "metadata": {},
     "output_type": "execute_result"
    }
   ],
   "source": [
    "data[data['profit'] > 0]['original_title'].count()"
   ]
  },
  {
   "cell_type": "markdown",
   "metadata": {},
   "source": [
    "ВАРИАНТ 2"
   ]
  },
  {
   "cell_type": "code",
   "execution_count": 451,
   "metadata": {},
   "outputs": [
    {
     "data": {
      "text/plain": [
       "1478"
      ]
     },
     "execution_count": 451,
     "metadata": {},
     "output_type": "execute_result"
    }
   ],
   "source": [
    "data[data['revenue'] > data['budget']]['original_title'].count()"
   ]
  },
  {
   "cell_type": "markdown",
   "metadata": {
    "colab_type": "text",
    "id": "xhpspA9KVp_A"
   },
   "source": [
    "# 9. Какой фильм оказался самым кассовым в 2008 году?"
   ]
  },
  {
   "cell_type": "code",
   "execution_count": 452,
   "metadata": {
    "colab": {},
    "colab_type": "code",
    "id": "MoUyQr9RVp_B"
   },
   "outputs": [],
   "source": [
    "answers['9'] = '4. The Dark Knight (tt0468569)'\n",
    "# +"
   ]
  },
  {
   "cell_type": "code",
   "execution_count": 453,
   "metadata": {},
   "outputs": [
    {
     "data": {
      "text/html": [
       "<div>\n",
       "<style scoped>\n",
       "    .dataframe tbody tr th:only-of-type {\n",
       "        vertical-align: middle;\n",
       "    }\n",
       "\n",
       "    .dataframe tbody tr th {\n",
       "        vertical-align: top;\n",
       "    }\n",
       "\n",
       "    .dataframe thead th {\n",
       "        text-align: right;\n",
       "    }\n",
       "</style>\n",
       "<table border=\"1\" class=\"dataframe\">\n",
       "  <thead>\n",
       "    <tr style=\"text-align: right;\">\n",
       "      <th></th>\n",
       "      <th>imdb_id</th>\n",
       "      <th>original_title</th>\n",
       "    </tr>\n",
       "  </thead>\n",
       "  <tbody>\n",
       "    <tr>\n",
       "      <th>599</th>\n",
       "      <td>tt0468569</td>\n",
       "      <td>The Dark Knight</td>\n",
       "    </tr>\n",
       "  </tbody>\n",
       "</table>\n",
       "</div>"
      ],
      "text/plain": [
       "       imdb_id   original_title\n",
       "599  tt0468569  The Dark Knight"
      ]
     },
     "execution_count": 453,
     "metadata": {},
     "output_type": "execute_result"
    }
   ],
   "source": [
    "data[data['revenue'] == data[data['release_year'] == 2008]['revenue'].max()][['imdb_id', 'original_title']]"
   ]
  },
  {
   "cell_type": "markdown",
   "metadata": {
    "colab_type": "text",
    "id": "Zi4hDKidVp_F"
   },
   "source": [
    "# 10. Самый убыточный фильм за период с 2012 по 2014 г. (включительно)?\n"
   ]
  },
  {
   "cell_type": "code",
   "execution_count": 454,
   "metadata": {
    "colab": {},
    "colab_type": "code",
    "id": "XqyRmufJVp_F"
   },
   "outputs": [],
   "source": [
    "answers['10'] = '5. The Lone Ranger (tt1210819)'\n",
    "# +"
   ]
  },
  {
   "cell_type": "code",
   "execution_count": 455,
   "metadata": {},
   "outputs": [
    {
     "data": {
      "text/html": [
       "<div>\n",
       "<style scoped>\n",
       "    .dataframe tbody tr th:only-of-type {\n",
       "        vertical-align: middle;\n",
       "    }\n",
       "\n",
       "    .dataframe tbody tr th {\n",
       "        vertical-align: top;\n",
       "    }\n",
       "\n",
       "    .dataframe thead th {\n",
       "        text-align: right;\n",
       "    }\n",
       "</style>\n",
       "<table border=\"1\" class=\"dataframe\">\n",
       "  <thead>\n",
       "    <tr style=\"text-align: right;\">\n",
       "      <th></th>\n",
       "      <th>imdb_id</th>\n",
       "      <th>budget</th>\n",
       "      <th>revenue</th>\n",
       "      <th>original_title</th>\n",
       "      <th>cast</th>\n",
       "      <th>director</th>\n",
       "      <th>tagline</th>\n",
       "      <th>overview</th>\n",
       "      <th>runtime</th>\n",
       "      <th>genres</th>\n",
       "      <th>production_companies</th>\n",
       "      <th>release_date</th>\n",
       "      <th>vote_average</th>\n",
       "      <th>release_year</th>\n",
       "      <th>profit</th>\n",
       "    </tr>\n",
       "  </thead>\n",
       "  <tbody>\n",
       "    <tr>\n",
       "      <th>1245</th>\n",
       "      <td>tt1210819</td>\n",
       "      <td>255000000</td>\n",
       "      <td>89289910</td>\n",
       "      <td>The Lone Ranger</td>\n",
       "      <td>Johnny Depp|Armie Hammer|William Fichtner|Helena Bonham Carter|James Badge Dale</td>\n",
       "      <td>Gore Verbinski</td>\n",
       "      <td>Never Take Off the Mask</td>\n",
       "      <td>The Texas Rangers chase down a gang of outlaws led by Butch Cavendish, but th...</td>\n",
       "      <td>149</td>\n",
       "      <td>Action|Adventure|Western</td>\n",
       "      <td>Walt Disney Pictures|Jerry Bruckheimer Films|Infinitum Nihil|Silver Bullet Pr...</td>\n",
       "      <td>2013-07-03</td>\n",
       "      <td>6.0</td>\n",
       "      <td>2013</td>\n",
       "      <td>-165710090</td>\n",
       "    </tr>\n",
       "  </tbody>\n",
       "</table>\n",
       "</div>"
      ],
      "text/plain": [
       "        imdb_id     budget   revenue   original_title  \\\n",
       "1245  tt1210819  255000000  89289910  The Lone Ranger   \n",
       "\n",
       "                                                                                 cast  \\\n",
       "1245  Johnny Depp|Armie Hammer|William Fichtner|Helena Bonham Carter|James Badge Dale   \n",
       "\n",
       "            director                  tagline  \\\n",
       "1245  Gore Verbinski  Never Take Off the Mask   \n",
       "\n",
       "                                                                              overview  \\\n",
       "1245  The Texas Rangers chase down a gang of outlaws led by Butch Cavendish, but th...   \n",
       "\n",
       "      runtime                    genres  \\\n",
       "1245      149  Action|Adventure|Western   \n",
       "\n",
       "                                                                  production_companies  \\\n",
       "1245  Walt Disney Pictures|Jerry Bruckheimer Films|Infinitum Nihil|Silver Bullet Pr...   \n",
       "\n",
       "     release_date  vote_average  release_year     profit  \n",
       "1245   2013-07-03           6.0          2013 -165710090  "
      ]
     },
     "execution_count": 455,
     "metadata": {},
     "output_type": "execute_result"
    }
   ],
   "source": [
    "data[data['profit'] == data[(data['release_year'] >= 2012) & (data['release_year'] <= 2014)]['profit'].min()]"
   ]
  },
  {
   "cell_type": "markdown",
   "metadata": {
    "colab_type": "text",
    "id": "EA7Sa9dkVp_I"
   },
   "source": [
    "# 11. Какого жанра фильмов больше всего?"
   ]
  },
  {
   "cell_type": "code",
   "execution_count": 0,
   "metadata": {
    "colab": {},
    "colab_type": "code",
    "id": "zsJAwJ8QVp_J"
   },
   "outputs": [],
   "source": [
    "# эту задачу тоже можно решать разными подходами, попробуй реализовать разные варианты\n",
    "# если будешь добавлять функцию - выноси ее в предобработку что в начале"
   ]
  },
  {
   "cell_type": "code",
   "execution_count": 456,
   "metadata": {},
   "outputs": [],
   "source": [
    "answers['11'] = '3. Drama'\n",
    "# +"
   ]
  },
  {
   "cell_type": "code",
   "execution_count": 457,
   "metadata": {},
   "outputs": [
    {
     "data": {
      "text/plain": [
       "Drama    782\n",
       "Name: genres_splitted, dtype: int64"
      ]
     },
     "execution_count": 457,
     "metadata": {},
     "output_type": "execute_result"
    }
   ],
   "source": [
    "# разбиваем строки с фильмами, у которых указано несколько жанров, на несколько строк\n",
    "genres_splitted_data = split_by_column(data, 'genres', '|')\n",
    "genres_splitted_data['genres_splitted'].value_counts().head(1)"
   ]
  },
  {
   "cell_type": "markdown",
   "metadata": {
    "colab_type": "text",
    "id": "Ax6g2C8SVp_M"
   },
   "source": [
    "ВАРИАНТ 2"
   ]
  },
  {
   "cell_type": "code",
   "execution_count": 458,
   "metadata": {
    "colab": {},
    "colab_type": "code",
    "id": "otO3SbrSVp_N"
   },
   "outputs": [
    {
     "data": {
      "text/plain": [
       "[('Drama', 782)]"
      ]
     },
     "execution_count": 458,
     "metadata": {},
     "output_type": "execute_result"
    }
   ],
   "source": [
    "genres_splitted_data = data.copy()\n",
    "# в каждом элементе преобразуем строку из колонки genres к списку, помещаем список в колонку genres_splitted\n",
    "genres_splitted_data['genres_splitted'] = genres_splitted_data['genres'].apply(\n",
    "    lambda x: x.split('|'))\n",
    "\n",
    "# объединяем списки из колонки genres_splitted в единый список\n",
    "result_list = []\n",
    "genres_splitted_data['genres_splitted'].apply(lambda s: result_list.extend(s))\n",
    "\n",
    "#находим элемент, чаще всего встречающийся в итоговом стиске \n",
    "Counter(result_list).most_common(1)"
   ]
  },
  {
   "cell_type": "markdown",
   "metadata": {
    "colab_type": "text",
    "id": "T9_bPWpkVp_Q"
   },
   "source": [
    "# 12. Фильмы какого жанра чаще всего становятся прибыльными? "
   ]
  },
  {
   "cell_type": "code",
   "execution_count": 459,
   "metadata": {
    "colab": {},
    "colab_type": "code",
    "id": "Tmt8MaK1Vp_R"
   },
   "outputs": [],
   "source": [
    "answers['12'] = '1. Drama '\n",
    "# +"
   ]
  },
  {
   "cell_type": "code",
   "execution_count": 460,
   "metadata": {},
   "outputs": [
    {
     "data": {
      "text/plain": [
       "Drama    560\n",
       "Name: genres_splitted, dtype: int64"
      ]
     },
     "execution_count": 460,
     "metadata": {},
     "output_type": "execute_result"
    }
   ],
   "source": [
    "# разбиваем строки с фильмами, у которых указано несколько жанров, на несколько строк\n",
    "genres_splitted_data = split_by_column(data, 'genres', '|')\n",
    "\n",
    "genres_splitted_data = genres_splitted_data[genres_splitted_data['profit'] > 0]\n",
    "genres_splitted_data.genres_splitted.value_counts().head(1)"
   ]
  },
  {
   "cell_type": "markdown",
   "metadata": {
    "colab_type": "text",
    "id": "0F23bgsDVp_U"
   },
   "source": [
    "# 13. У какого режиссера самые большие суммарные кассовые сборы?"
   ]
  },
  {
   "cell_type": "code",
   "execution_count": 461,
   "metadata": {
    "colab": {},
    "colab_type": "code",
    "id": "K6Z3J8ygVp_X"
   },
   "outputs": [],
   "source": [
    "answers['13'] = '5. Peter Jackson'\n",
    "# +"
   ]
  },
  {
   "cell_type": "code",
   "execution_count": 462,
   "metadata": {},
   "outputs": [
    {
     "data": {
      "text/plain": [
       "director_splitted\n",
       "Peter Jackson    6490593685\n",
       "Name: revenue, dtype: int64"
      ]
     },
     "execution_count": 462,
     "metadata": {},
     "output_type": "execute_result"
    }
   ],
   "source": [
    "# разбиваем строки с фильмами, у которых указано несколько режиссёров, на несколько строк\n",
    "directors_data = split_by_column(data, 'director', '|')\n",
    "\n",
    "directors_data = directors_data.groupby('director_splitted').revenue.sum()\n",
    "directors_data.sort_values(ascending=False).head(1)"
   ]
  },
  {
   "cell_type": "markdown",
   "metadata": {
    "colab_type": "text",
    "id": "PsYC9FgRVp_a"
   },
   "source": [
    "# 14. Какой режисер снял больше всего фильмов в стиле Action?"
   ]
  },
  {
   "cell_type": "code",
   "execution_count": 463,
   "metadata": {
    "colab": {},
    "colab_type": "code",
    "id": "wd2M-wHeVp_b"
   },
   "outputs": [],
   "source": [
    "answers['14'] = '3. Robert Rodriguez'\n",
    "# +"
   ]
  },
  {
   "cell_type": "code",
   "execution_count": 464,
   "metadata": {},
   "outputs": [
    {
     "data": {
      "text/plain": [
       "Robert Rodriguez    9\n",
       "Name: director_splitted, dtype: int64"
      ]
     },
     "execution_count": 464,
     "metadata": {},
     "output_type": "execute_result"
    }
   ],
   "source": [
    "action_movies = data[data['genres'].str.contains('Action')]\n",
    "\n",
    "# разбиваем строки с фильмами, у которых указано несколько режиссёров, на несколько строк\n",
    "directors_data = split_by_column(action_movies, 'director', '|')\n",
    "\n",
    "directors_data['director_splitted'].value_counts().head(1)"
   ]
  },
  {
   "cell_type": "markdown",
   "metadata": {
    "colab_type": "text",
    "id": "PQ0KciD7Vp_f"
   },
   "source": [
    "# 15. Фильмы с каким актером принесли самые высокие кассовые сборы в 2012 году? "
   ]
  },
  {
   "cell_type": "code",
   "execution_count": 465,
   "metadata": {
    "colab": {},
    "colab_type": "code",
    "id": "aga62oeKVp_g"
   },
   "outputs": [],
   "source": [
    "answers['15'] = '3. Chris Hemsworth'\n",
    "# +"
   ]
  },
  {
   "cell_type": "code",
   "execution_count": 466,
   "metadata": {},
   "outputs": [
    {
     "data": {
      "text/plain": [
       "cast_splitted\n",
       "Chris Hemsworth    2027450773\n",
       "Name: revenue, dtype: int64"
      ]
     },
     "execution_count": 466,
     "metadata": {},
     "output_type": "execute_result"
    }
   ],
   "source": [
    "# создаём отдельную строку с фильмом для каждого актёра\n",
    "actors_data = split_by_column(data, 'cast', '|')\n",
    "\n",
    "actors_data = actors_data[actors_data['release_year'] == 2012]\n",
    "actors_data = actors_data.groupby('cast_splitted').revenue.sum()\n",
    "actors_data.sort_values(ascending=False).head(1)"
   ]
  },
  {
   "cell_type": "markdown",
   "metadata": {
    "colab_type": "text",
    "id": "mWHyyL7QVp_j"
   },
   "source": [
    "# 16. Какой актер снялся в большем количестве высокобюджетных фильмов?"
   ]
  },
  {
   "cell_type": "code",
   "execution_count": 467,
   "metadata": {
    "colab": {},
    "colab_type": "code",
    "id": "qQtmHKTFVp_k"
   },
   "outputs": [],
   "source": [
    "answers['16'] = '3. Matt Damon'\n",
    "# +"
   ]
  },
  {
   "cell_type": "code",
   "execution_count": 468,
   "metadata": {},
   "outputs": [
    {
     "data": {
      "text/plain": [
       "Matt Damon    18\n",
       "Name: cast_splitted, dtype: int64"
      ]
     },
     "execution_count": 468,
     "metadata": {},
     "output_type": "execute_result"
    }
   ],
   "source": [
    "# создаём отдельную строку с фильмом для каждого актёра\n",
    "actors_data = split_by_column(data, 'cast', '|')\n",
    "\n",
    "actors_data = actors_data[actors_data['budget'] > actors_data['budget'].mean()]\n",
    "actors_data.cast_splitted.value_counts().head(1)"
   ]
  },
  {
   "cell_type": "markdown",
   "metadata": {
    "colab_type": "text",
    "id": "NIh6AaW5Vp_n"
   },
   "source": [
    "# 17. В фильмах какого жанра больше всего снимался Nicolas Cage? "
   ]
  },
  {
   "cell_type": "code",
   "execution_count": 469,
   "metadata": {
    "colab": {},
    "colab_type": "code",
    "id": "H74SJDIBVp_n"
   },
   "outputs": [],
   "source": [
    "answers['17'] = '2. Action'\n",
    "# +"
   ]
  },
  {
   "cell_type": "code",
   "execution_count": 470,
   "metadata": {},
   "outputs": [
    {
     "data": {
      "text/plain": [
       "Action    17\n",
       "Name: genres_splitted, dtype: int64"
      ]
     },
     "execution_count": 470,
     "metadata": {},
     "output_type": "execute_result"
    }
   ],
   "source": [
    "# разбиваем строки с фильмами, у которых указано несколько режиссёров, на несколько строк\n",
    "genres_data = split_by_column(data, 'genres', '|')\n",
    "\n",
    "genres_data = genres_data[genres_data['cast'].str.contains('Nicolas Cage')]\n",
    "genres_data.genres_splitted.value_counts().head(1)"
   ]
  },
  {
   "cell_type": "markdown",
   "metadata": {
    "colab_type": "text",
    "id": "RqOmPRfWVp_q"
   },
   "source": [
    "# 18. Самый убыточный фильм от Paramount Pictures"
   ]
  },
  {
   "cell_type": "code",
   "execution_count": 471,
   "metadata": {
    "colab": {},
    "colab_type": "code",
    "id": "9E_B0Y96Vp_r"
   },
   "outputs": [],
   "source": [
    "answers['18'] = '1. K-19: The Widowmaker (tt0267626)'\n",
    "# +"
   ]
  },
  {
   "cell_type": "code",
   "execution_count": 472,
   "metadata": {},
   "outputs": [
    {
     "data": {
      "text/plain": [
       "imdb_id                                                                                        tt0267626\n",
       "budget                                                                                         100000000\n",
       "revenue                                                                                         35168966\n",
       "original_title                                                                      K-19: The Widowmaker\n",
       "cast                                Harrison Ford|Liam Neeson|Peter Sarsgaard|Joss Ackland|John Shrapnel\n",
       "director                                                                                 Kathryn Bigelow\n",
       "tagline                                                                         Fate has found its hero.\n",
       "overview                When Russia's first nuclear submarine malfunctions on its maiden voyage, the ...\n",
       "runtime                                                                                              138\n",
       "genres                                                                            Thriller|Drama|History\n",
       "production_companies    Paramount Pictures|Intermedia Films|National Geographic Society|New Regency P...\n",
       "release_date                                                                         2002-07-19 00:00:00\n",
       "vote_average                                                                                           6\n",
       "release_year                                                                                        2002\n",
       "profit                                                                                         -64831034\n",
       "Name: 925, dtype: object"
      ]
     },
     "execution_count": 472,
     "metadata": {},
     "output_type": "execute_result"
    }
   ],
   "source": [
    "data.iloc[data[data['production_companies'].str.contains('Paramount Pictures')].profit.idxmin()]"
   ]
  },
  {
   "cell_type": "markdown",
   "metadata": {
    "colab_type": "text",
    "id": "vS8Ur6ddVp_u"
   },
   "source": [
    "# 19. Какой год стал самым успешным по суммарным кассовым сборам?"
   ]
  },
  {
   "cell_type": "code",
   "execution_count": 473,
   "metadata": {
    "colab": {},
    "colab_type": "code",
    "id": "Dnbt4GdIVp_v"
   },
   "outputs": [],
   "source": [
    "answers['19'] = '5. 2015'\n",
    "# +"
   ]
  },
  {
   "cell_type": "code",
   "execution_count": 474,
   "metadata": {},
   "outputs": [
    {
     "data": {
      "text/plain": [
       "release_year\n",
       "2015    25449202382\n",
       "Name: revenue, dtype: int64"
      ]
     },
     "execution_count": 474,
     "metadata": {},
     "output_type": "execute_result"
    }
   ],
   "source": [
    "data.groupby('release_year')['revenue'].sum().sort_values(ascending=False).head(1)"
   ]
  },
  {
   "cell_type": "markdown",
   "metadata": {
    "colab_type": "text",
    "id": "JAzJh4QAVp_z"
   },
   "source": [
    "# 20. Какой самый прибыльный год для студии Warner Bros?"
   ]
  },
  {
   "cell_type": "code",
   "execution_count": 475,
   "metadata": {
    "colab": {},
    "colab_type": "code",
    "id": "wgVu02DEVp_0"
   },
   "outputs": [],
   "source": [
    "answers['20'] = '1. 2014'\n",
    "# +"
   ]
  },
  {
   "cell_type": "code",
   "execution_count": 476,
   "metadata": {},
   "outputs": [
    {
     "data": {
      "text/plain": [
       "release_year\n",
       "2014    3243064519\n",
       "Name: revenue, dtype: int64"
      ]
     },
     "execution_count": 476,
     "metadata": {},
     "output_type": "execute_result"
    }
   ],
   "source": [
    "warner_bros_data = data[data['production_companies'].str.contains('Warner Bros')]\n",
    "warner_bros_data.groupby('release_year')['revenue'].sum().sort_values(ascending=False).head(1)"
   ]
  },
  {
   "cell_type": "markdown",
   "metadata": {
    "colab_type": "text",
    "id": "8Im1S2HRVp_4"
   },
   "source": [
    "# 21. В каком месяце за все годы суммарно вышло больше всего фильмов?"
   ]
  },
  {
   "cell_type": "code",
   "execution_count": 477,
   "metadata": {
    "colab": {},
    "colab_type": "code",
    "id": "lev6TH7gVp_4"
   },
   "outputs": [],
   "source": [
    "answers['21'] = '4. Сентябрь'\n",
    "# +"
   ]
  },
  {
   "cell_type": "code",
   "execution_count": 478,
   "metadata": {},
   "outputs": [
    {
     "data": {
      "text/plain": [
       "9    227\n",
       "Name: release_date, dtype: int64"
      ]
     },
     "execution_count": 478,
     "metadata": {},
     "output_type": "execute_result"
    }
   ],
   "source": [
    "data['release_date'].dt.month.value_counts().head(1)"
   ]
  },
  {
   "cell_type": "markdown",
   "metadata": {
    "colab_type": "text",
    "id": "uAJsZ_NeVp_7"
   },
   "source": [
    "# 22. Сколько суммарно вышло фильмов летом? (за июнь, июль, август)"
   ]
  },
  {
   "cell_type": "code",
   "execution_count": 479,
   "metadata": {
    "colab": {},
    "colab_type": "code",
    "id": "Aa-hEREoVp_8"
   },
   "outputs": [],
   "source": [
    "answers['22'] = '2. 450'\n",
    "# +"
   ]
  },
  {
   "cell_type": "code",
   "execution_count": 480,
   "metadata": {},
   "outputs": [
    {
     "data": {
      "text/plain": [
       "450"
      ]
     },
     "execution_count": 480,
     "metadata": {},
     "output_type": "execute_result"
    }
   ],
   "source": [
    "data[data['release_date'].dt.month.isin([6, 7, 8])].original_title.count()"
   ]
  },
  {
   "cell_type": "markdown",
   "metadata": {
    "colab_type": "text",
    "id": "G94ppOY1VqAA"
   },
   "source": [
    "# 23. Для какого режиссера зима – самое продуктивное время года? "
   ]
  },
  {
   "cell_type": "code",
   "execution_count": 481,
   "metadata": {
    "colab": {},
    "colab_type": "code",
    "id": "RhNTsamuVqAB"
   },
   "outputs": [],
   "source": [
    "answers['23'] = '5. Peter Jackson'\n",
    "# +"
   ]
  },
  {
   "cell_type": "code",
   "execution_count": 482,
   "metadata": {},
   "outputs": [
    {
     "data": {
      "text/plain": [
       "Peter Jackson    4\n",
       "Name: director_splitted, dtype: int64"
      ]
     },
     "execution_count": 482,
     "metadata": {},
     "output_type": "execute_result"
    }
   ],
   "source": [
    "# создаём отдельную строку с фильмом для каждого режиссёра\n",
    "director_data = split_by_column(action_movies, 'director', '|')\n",
    "\n",
    "director_data = director_data[director_data['release_date'].dt.month.isin([1, 2, 12])]\n",
    "director_data['director_splitted'].value_counts().head(1)"
   ]
  },
  {
   "cell_type": "markdown",
   "metadata": {
    "colab_type": "text",
    "id": "RBo0JVjVVqAF"
   },
   "source": [
    "# 24. Какая студия дает самые длинные названия своим фильмам по количеству символов?"
   ]
  },
  {
   "cell_type": "code",
   "execution_count": 483,
   "metadata": {
    "colab": {},
    "colab_type": "code",
    "id": "QRGS8L0iVqAG"
   },
   "outputs": [],
   "source": [
    "answers['24'] = '5. Four By Two Productions'\n",
    "# +"
   ]
  },
  {
   "cell_type": "code",
   "execution_count": 484,
   "metadata": {},
   "outputs": [
    {
     "data": {
      "text/html": [
       "<div>\n",
       "<style scoped>\n",
       "    .dataframe tbody tr th:only-of-type {\n",
       "        vertical-align: middle;\n",
       "    }\n",
       "\n",
       "    .dataframe tbody tr th {\n",
       "        vertical-align: top;\n",
       "    }\n",
       "\n",
       "    .dataframe thead th {\n",
       "        text-align: right;\n",
       "    }\n",
       "</style>\n",
       "<table border=\"1\" class=\"dataframe\">\n",
       "  <thead>\n",
       "    <tr style=\"text-align: right;\">\n",
       "      <th></th>\n",
       "      <th>imdb_id</th>\n",
       "      <th>budget</th>\n",
       "      <th>revenue</th>\n",
       "      <th>original_title</th>\n",
       "      <th>cast</th>\n",
       "      <th>director</th>\n",
       "      <th>tagline</th>\n",
       "      <th>overview</th>\n",
       "      <th>runtime</th>\n",
       "      <th>genres</th>\n",
       "      <th>production_companies</th>\n",
       "      <th>release_date</th>\n",
       "      <th>vote_average</th>\n",
       "      <th>release_year</th>\n",
       "      <th>profit</th>\n",
       "    </tr>\n",
       "  </thead>\n",
       "  <tbody>\n",
       "    <tr>\n",
       "      <th>1448</th>\n",
       "      <td>tt0443453</td>\n",
       "      <td>18000000</td>\n",
       "      <td>261572744</td>\n",
       "      <td>Borat: Cultural Learnings of America for Make Benefit Glorious Nation of Kaza...</td>\n",
       "      <td>Sacha Baron Cohen|Ken Davitian|Luenell|Pamela Anderson|Bob Barr</td>\n",
       "      <td>Larry Charles</td>\n",
       "      <td>Come to Kazakhstan, it's nice!</td>\n",
       "      <td>Kazakh journalist Borat Sagdiyev travels to America to make a documentary. As...</td>\n",
       "      <td>82</td>\n",
       "      <td>Comedy</td>\n",
       "      <td>Twentieth Century Fox Film Corporation|Four By Two Productions</td>\n",
       "      <td>2006-11-02</td>\n",
       "      <td>6.4</td>\n",
       "      <td>2006</td>\n",
       "      <td>243572744</td>\n",
       "    </tr>\n",
       "  </tbody>\n",
       "</table>\n",
       "</div>"
      ],
      "text/plain": [
       "        imdb_id    budget    revenue  \\\n",
       "1448  tt0443453  18000000  261572744   \n",
       "\n",
       "                                                                        original_title  \\\n",
       "1448  Borat: Cultural Learnings of America for Make Benefit Glorious Nation of Kaza...   \n",
       "\n",
       "                                                                 cast  \\\n",
       "1448  Sacha Baron Cohen|Ken Davitian|Luenell|Pamela Anderson|Bob Barr   \n",
       "\n",
       "           director                         tagline  \\\n",
       "1448  Larry Charles  Come to Kazakhstan, it's nice!   \n",
       "\n",
       "                                                                              overview  \\\n",
       "1448  Kazakh journalist Borat Sagdiyev travels to America to make a documentary. As...   \n",
       "\n",
       "      runtime  genres  \\\n",
       "1448       82  Comedy   \n",
       "\n",
       "                                                production_companies  \\\n",
       "1448  Twentieth Century Fox Film Corporation|Four By Two Productions   \n",
       "\n",
       "     release_date  vote_average  release_year     profit  \n",
       "1448   2006-11-02           6.4          2006  243572744  "
      ]
     },
     "execution_count": 484,
     "metadata": {},
     "output_type": "execute_result"
    }
   ],
   "source": [
    "#увеличиваем размер колонки, чтобы в выводе отобразились все студии\n",
    "pd.options.display.max_colwidth=81\n",
    "data[data['original_title'].apply(len) == data['original_title'].apply(len).max()]"
   ]
  },
  {
   "cell_type": "markdown",
   "metadata": {
    "colab_type": "text",
    "id": "9G0hbvR7VqAK"
   },
   "source": [
    "# 25. Описание фильмов какой студии в среднем самые длинные по количеству слов?"
   ]
  },
  {
   "cell_type": "code",
   "execution_count": 485,
   "metadata": {
    "colab": {},
    "colab_type": "code",
    "id": "Ge2GsLNxVqAK"
   },
   "outputs": [],
   "source": [
    "answers['25'] = '3. Midnight Picture Show'\n",
    "# +"
   ]
  },
  {
   "cell_type": "code",
   "execution_count": 486,
   "metadata": {},
   "outputs": [
    {
     "data": {
      "text/plain": [
       "production_companies_splitted\n",
       "Midnight Picture Show    175.0\n",
       "Name: overview_len, dtype: float64"
      ]
     },
     "execution_count": 486,
     "metadata": {},
     "output_type": "execute_result"
    }
   ],
   "source": [
    "# создаём отдельную строку с фильмом для каждой студии\n",
    "companies_data = split_by_column(data, 'production_companies', '|')\n",
    "\n",
    "companies_data['overview_len'] = companies_data.overview.str.split().apply(len)\n",
    "companies_data = companies_data.groupby('production_companies_splitted').overview_len.mean()\n",
    "companies_data.sort_values(ascending=False).head(1)"
   ]
  },
  {
   "cell_type": "markdown",
   "metadata": {
    "colab_type": "text",
    "id": "FJ1AFt90VqAP"
   },
   "source": [
    "# 26. Какие фильмы входят в 1 процент лучших по рейтингу? \n",
    "по vote_average"
   ]
  },
  {
   "cell_type": "code",
   "execution_count": 487,
   "metadata": {
    "colab": {},
    "colab_type": "code",
    "id": "8qmJVq4CVqAQ"
   },
   "outputs": [],
   "source": [
    "answers['26'] = '1. Inside Out, The Dark Knight, 12 Years a Slave'\n",
    "# +"
   ]
  },
  {
   "cell_type": "code",
   "execution_count": 488,
   "metadata": {},
   "outputs": [
    {
     "data": {
      "text/html": [
       "<div>\n",
       "<style scoped>\n",
       "    .dataframe tbody tr th:only-of-type {\n",
       "        vertical-align: middle;\n",
       "    }\n",
       "\n",
       "    .dataframe tbody tr th {\n",
       "        vertical-align: top;\n",
       "    }\n",
       "\n",
       "    .dataframe thead th {\n",
       "        text-align: right;\n",
       "    }\n",
       "</style>\n",
       "<table border=\"1\" class=\"dataframe\">\n",
       "  <thead>\n",
       "    <tr style=\"text-align: right;\">\n",
       "      <th></th>\n",
       "      <th>imdb_id</th>\n",
       "      <th>budget</th>\n",
       "      <th>revenue</th>\n",
       "      <th>original_title</th>\n",
       "      <th>cast</th>\n",
       "      <th>director</th>\n",
       "      <th>tagline</th>\n",
       "      <th>overview</th>\n",
       "      <th>runtime</th>\n",
       "      <th>genres</th>\n",
       "      <th>production_companies</th>\n",
       "      <th>release_date</th>\n",
       "      <th>vote_average</th>\n",
       "      <th>release_year</th>\n",
       "      <th>profit</th>\n",
       "    </tr>\n",
       "  </thead>\n",
       "  <tbody>\n",
       "    <tr>\n",
       "      <th>9</th>\n",
       "      <td>tt2096673</td>\n",
       "      <td>175000000</td>\n",
       "      <td>853708609</td>\n",
       "      <td>Inside Out</td>\n",
       "      <td>Amy Poehler|Phyllis Smith|Richard Kind|Bill Hader|Lewis Black</td>\n",
       "      <td>Pete Docter</td>\n",
       "      <td>Meet the little voices inside your head.</td>\n",
       "      <td>Growing up can be a bumpy road, and it's no exception for Riley, who is uproo...</td>\n",
       "      <td>94</td>\n",
       "      <td>Comedy|Animation|Family</td>\n",
       "      <td>Walt Disney Pictures|Pixar Animation Studios|Walt Disney Studios Motion Pictures</td>\n",
       "      <td>2015-06-09</td>\n",
       "      <td>8.0</td>\n",
       "      <td>2015</td>\n",
       "      <td>678708609</td>\n",
       "    </tr>\n",
       "    <tr>\n",
       "      <th>28</th>\n",
       "      <td>tt1895587</td>\n",
       "      <td>20000000</td>\n",
       "      <td>88346473</td>\n",
       "      <td>Spotlight</td>\n",
       "      <td>Mark Ruffalo|Michael Keaton|Rachel McAdams|Liev Schreiber|John Slattery</td>\n",
       "      <td>Tom McCarthy</td>\n",
       "      <td>Break the story. Break the silence.</td>\n",
       "      <td>The true story of how The Boston Globe uncovered the massive scandal of child...</td>\n",
       "      <td>128</td>\n",
       "      <td>Drama|Thriller|History</td>\n",
       "      <td>Participant Media|Open Road Films|Anonymous Content|Rocklin / Faust|Entertain...</td>\n",
       "      <td>2015-11-06</td>\n",
       "      <td>7.8</td>\n",
       "      <td>2015</td>\n",
       "      <td>68346473</td>\n",
       "    </tr>\n",
       "    <tr>\n",
       "      <th>34</th>\n",
       "      <td>tt3170832</td>\n",
       "      <td>6000000</td>\n",
       "      <td>35401758</td>\n",
       "      <td>Room</td>\n",
       "      <td>Brie Larson|Jacob Tremblay|Joan Allen|Sean Bridgers|William H. Macy</td>\n",
       "      <td>Lenny Abrahamson</td>\n",
       "      <td>Love knows no boundaries</td>\n",
       "      <td>Jack is a young boy of 5 years old who has lived all his life in one room. He...</td>\n",
       "      <td>117</td>\n",
       "      <td>Drama|Thriller</td>\n",
       "      <td>Element Pictures|No Trace Camping|A24|Duperele Films</td>\n",
       "      <td>2015-10-16</td>\n",
       "      <td>8.0</td>\n",
       "      <td>2015</td>\n",
       "      <td>29401758</td>\n",
       "    </tr>\n",
       "    <tr>\n",
       "      <th>118</th>\n",
       "      <td>tt0816692</td>\n",
       "      <td>165000000</td>\n",
       "      <td>621752480</td>\n",
       "      <td>Interstellar</td>\n",
       "      <td>Matthew McConaughey|Jessica Chastain|Anne Hathaway|Michael Caine|Casey Affleck</td>\n",
       "      <td>Christopher Nolan</td>\n",
       "      <td>Mankind was born on Earth. It was never meant to die here.</td>\n",
       "      <td>Interstellar chronicles the adventures of a group of explorers who make use o...</td>\n",
       "      <td>169</td>\n",
       "      <td>Adventure|Drama|Science Fiction</td>\n",
       "      <td>Paramount Pictures|Legendary Pictures|Warner Bros.|Syncopy|Lynda Obst Product...</td>\n",
       "      <td>2014-11-05</td>\n",
       "      <td>8.0</td>\n",
       "      <td>2014</td>\n",
       "      <td>456752480</td>\n",
       "    </tr>\n",
       "    <tr>\n",
       "      <th>119</th>\n",
       "      <td>tt2015381</td>\n",
       "      <td>170000000</td>\n",
       "      <td>773312399</td>\n",
       "      <td>Guardians of the Galaxy</td>\n",
       "      <td>Chris Pratt|Zoe Saldana|Dave Bautista|Vin Diesel|Bradley Cooper</td>\n",
       "      <td>James Gunn</td>\n",
       "      <td>All heroes start somewhere.</td>\n",
       "      <td>Light years from Earth, 26 years after being abducted, Peter Quill finds hims...</td>\n",
       "      <td>121</td>\n",
       "      <td>Action|Science Fiction|Adventure</td>\n",
       "      <td>Marvel Studios|Moving Picture Company (MPC)|Bulletproof Cupid|Revolution Sun ...</td>\n",
       "      <td>2014-07-30</td>\n",
       "      <td>7.9</td>\n",
       "      <td>2014</td>\n",
       "      <td>603312399</td>\n",
       "    </tr>\n",
       "    <tr>\n",
       "      <th>124</th>\n",
       "      <td>tt2245084</td>\n",
       "      <td>165000000</td>\n",
       "      <td>652105443</td>\n",
       "      <td>Big Hero 6</td>\n",
       "      <td>Scott Adsit|Ryan Potter|Daniel Henney|T.J. Miller|Jamie Chung</td>\n",
       "      <td>Don Hall|Chris Williams</td>\n",
       "      <td>From the creators of Wreck-it Ralph and Frozen</td>\n",
       "      <td>The special bond that develops between plus-sized inflatable robot Baymax, an...</td>\n",
       "      <td>102</td>\n",
       "      <td>Adventure|Family|Animation|Action|Comedy</td>\n",
       "      <td>Walt Disney Pictures|Walt Disney Animation Studios</td>\n",
       "      <td>2014-10-24</td>\n",
       "      <td>7.8</td>\n",
       "      <td>2014</td>\n",
       "      <td>487105443</td>\n",
       "    </tr>\n",
       "    <tr>\n",
       "      <th>125</th>\n",
       "      <td>tt2084970</td>\n",
       "      <td>14000000</td>\n",
       "      <td>233555708</td>\n",
       "      <td>The Imitation Game</td>\n",
       "      <td>Benedict Cumberbatch|Keira Knightley|Matthew Goode|Rory Kinnear|Allen Leech</td>\n",
       "      <td>Morten Tyldum</td>\n",
       "      <td>The true enigma was the man who cracked the code.</td>\n",
       "      <td>Based on the real life story of legendary cryptanalyst Alan Turing, the film ...</td>\n",
       "      <td>113</td>\n",
       "      <td>History|Drama|Thriller|War</td>\n",
       "      <td>Black Bear Pictures|Bristol Automotive</td>\n",
       "      <td>2014-11-14</td>\n",
       "      <td>8.0</td>\n",
       "      <td>2014</td>\n",
       "      <td>219555708</td>\n",
       "    </tr>\n",
       "    <tr>\n",
       "      <th>128</th>\n",
       "      <td>tt2267998</td>\n",
       "      <td>61000000</td>\n",
       "      <td>369330363</td>\n",
       "      <td>Gone Girl</td>\n",
       "      <td>Ben Affleck|Rosamund Pike|Carrie Coon|Neil Patrick Harris|Tyler Perry</td>\n",
       "      <td>David Fincher</td>\n",
       "      <td>You don't know what you've got 'til it's...</td>\n",
       "      <td>With his wife's disappearance having become the focus of an intense media cir...</td>\n",
       "      <td>145</td>\n",
       "      <td>Mystery|Thriller|Drama</td>\n",
       "      <td>Twentieth Century Fox Film Corporation|Regency Enterprises|New Regency Pictur...</td>\n",
       "      <td>2014-10-01</td>\n",
       "      <td>7.9</td>\n",
       "      <td>2014</td>\n",
       "      <td>308330363</td>\n",
       "    </tr>\n",
       "    <tr>\n",
       "      <th>138</th>\n",
       "      <td>tt2278388</td>\n",
       "      <td>30000000</td>\n",
       "      <td>174600318</td>\n",
       "      <td>The Grand Budapest Hotel</td>\n",
       "      <td>Ralph Fiennes|Tony Revolori|F. Murray Abraham|Mathieu Amalric|Adrien Brody</td>\n",
       "      <td>Wes Anderson</td>\n",
       "      <td>A perfect holiday without leaving home.</td>\n",
       "      <td>The Grand Budapest Hotel tells of a legendary concierge at a famous European ...</td>\n",
       "      <td>99</td>\n",
       "      <td>Comedy|Drama</td>\n",
       "      <td>Fox Searchlight Pictures|Scott Rudin Productions|Studio Babelsberg|Indian Pai...</td>\n",
       "      <td>2014-02-26</td>\n",
       "      <td>7.9</td>\n",
       "      <td>2014</td>\n",
       "      <td>144600318</td>\n",
       "    </tr>\n",
       "    <tr>\n",
       "      <th>155</th>\n",
       "      <td>tt2980516</td>\n",
       "      <td>15000000</td>\n",
       "      <td>121201940</td>\n",
       "      <td>The Theory of Everything</td>\n",
       "      <td>Eddie Redmayne|Felicity Jones|Harry Lloyd|David Thewlis|Emily Watson</td>\n",
       "      <td>James Marsh</td>\n",
       "      <td>His Mind Changed Our World. Her Love Changed His.</td>\n",
       "      <td>A look at the relationship between the famous physicist Stephen Hawking and h...</td>\n",
       "      <td>123</td>\n",
       "      <td>Drama|Romance</td>\n",
       "      <td>Working Title Films</td>\n",
       "      <td>2014-11-26</td>\n",
       "      <td>7.8</td>\n",
       "      <td>2014</td>\n",
       "      <td>106201940</td>\n",
       "    </tr>\n",
       "    <tr>\n",
       "      <th>177</th>\n",
       "      <td>tt2582846</td>\n",
       "      <td>12000000</td>\n",
       "      <td>305151265</td>\n",
       "      <td>The Fault in Our Stars</td>\n",
       "      <td>Shailene Woodley|Ansel Elgort|Nat Wolff|Laura Dern|Sam Trammell</td>\n",
       "      <td>Josh Boone</td>\n",
       "      <td>One Sick Love Story</td>\n",
       "      <td>Despite the tumor-shrinking medical miracle that has bought her a few years, ...</td>\n",
       "      <td>125</td>\n",
       "      <td>Romance|Drama</td>\n",
       "      <td>Fox 2000 Pictures|Temple Hill Entertainment|TSG Entertainment</td>\n",
       "      <td>2014-05-16</td>\n",
       "      <td>7.8</td>\n",
       "      <td>2014</td>\n",
       "      <td>293151265</td>\n",
       "    </tr>\n",
       "    <tr>\n",
       "      <th>283</th>\n",
       "      <td>tt0485947</td>\n",
       "      <td>47000000</td>\n",
       "      <td>3547209</td>\n",
       "      <td>Mr. Nobody</td>\n",
       "      <td>Jared Leto|Diane Kruger|Linh Äan Pháº¡m|Sarah Polley|Rhys Ifans</td>\n",
       "      <td>Jaco Van Dormael</td>\n",
       "      <td>Nothing is real, everything is possible.</td>\n",
       "      <td>Nemo Nobody leads an ordinary existence with his wife and 3 children; one day...</td>\n",
       "      <td>141</td>\n",
       "      <td>Science Fiction|Drama|Romance|Fantasy</td>\n",
       "      <td>Pan EuropÃ©enne Production|Virtual Films</td>\n",
       "      <td>2009-09-11</td>\n",
       "      <td>7.8</td>\n",
       "      <td>2009</td>\n",
       "      <td>-43452791</td>\n",
       "    </tr>\n",
       "    <tr>\n",
       "      <th>316</th>\n",
       "      <td>tt1187043</td>\n",
       "      <td>9000000</td>\n",
       "      <td>70000000</td>\n",
       "      <td>3 Idiots</td>\n",
       "      <td>Aamir Khan|Kareena Kapoor|Madhavan|Sharman Joshi|Boman Irani</td>\n",
       "      <td>Rajkumar Hirani</td>\n",
       "      <td>Don't BE A STUPID BE AN I.D.I.O.T.</td>\n",
       "      <td>In the tradition of â€œFerris Buellerâ€™s Day Offâ€ comes this refreshing com...</td>\n",
       "      <td>170</td>\n",
       "      <td>Drama|Comedy|Romance</td>\n",
       "      <td>Vidhu Vinod Chopra Productions</td>\n",
       "      <td>2009-12-23</td>\n",
       "      <td>7.8</td>\n",
       "      <td>2009</td>\n",
       "      <td>61000000</td>\n",
       "    </tr>\n",
       "    <tr>\n",
       "      <th>370</th>\n",
       "      <td>tt1375666</td>\n",
       "      <td>160000000</td>\n",
       "      <td>825500000</td>\n",
       "      <td>Inception</td>\n",
       "      <td>Leonardo DiCaprio|Joseph Gordon-Levitt|Ellen Page|Tom Hardy|Ken Watanabe</td>\n",
       "      <td>Christopher Nolan</td>\n",
       "      <td>Your mind is the scene of the crime.</td>\n",
       "      <td>Cobb, a skilled thief who commits corporate espionage by infiltrating the sub...</td>\n",
       "      <td>148</td>\n",
       "      <td>Action|Thriller|Science Fiction|Mystery|Adventure</td>\n",
       "      <td>Legendary Pictures|Warner Bros.|Syncopy</td>\n",
       "      <td>2010-07-14</td>\n",
       "      <td>7.9</td>\n",
       "      <td>2010</td>\n",
       "      <td>665500000</td>\n",
       "    </tr>\n",
       "    <tr>\n",
       "      <th>496</th>\n",
       "      <td>tt0120737</td>\n",
       "      <td>93000000</td>\n",
       "      <td>871368364</td>\n",
       "      <td>The Lord of the Rings: The Fellowship of the Ring</td>\n",
       "      <td>Elijah Wood|Ian McKellen|Viggo Mortensen|Liv Tyler|Orlando Bloom</td>\n",
       "      <td>Peter Jackson</td>\n",
       "      <td>One ring to rule them all</td>\n",
       "      <td>Young hobbit Frodo Baggins, after inheriting a mysterious ring from his uncle...</td>\n",
       "      <td>178</td>\n",
       "      <td>Adventure|Fantasy|Action</td>\n",
       "      <td>WingNut Films|New Line Cinema|The Saul Zaentz Company</td>\n",
       "      <td>2001-12-18</td>\n",
       "      <td>7.8</td>\n",
       "      <td>2001</td>\n",
       "      <td>778368364</td>\n",
       "    </tr>\n",
       "    <tr>\n",
       "      <th>599</th>\n",
       "      <td>tt0468569</td>\n",
       "      <td>185000000</td>\n",
       "      <td>1001921825</td>\n",
       "      <td>The Dark Knight</td>\n",
       "      <td>Christian Bale|Michael Caine|Heath Ledger|Aaron Eckhart|Gary Oldman</td>\n",
       "      <td>Christopher Nolan</td>\n",
       "      <td>Why So Serious?</td>\n",
       "      <td>Batman raises the stakes in his war on crime. With the help of Lt. Jim Gordon...</td>\n",
       "      <td>152</td>\n",
       "      <td>Drama|Action|Crime|Thriller</td>\n",
       "      <td>DC Comics|Legendary Pictures|Warner Bros.|Syncopy</td>\n",
       "      <td>2008-07-16</td>\n",
       "      <td>8.1</td>\n",
       "      <td>2008</td>\n",
       "      <td>816921825</td>\n",
       "    </tr>\n",
       "    <tr>\n",
       "      <th>863</th>\n",
       "      <td>tt0167261</td>\n",
       "      <td>79000000</td>\n",
       "      <td>926287400</td>\n",
       "      <td>The Lord of the Rings: The Two Towers</td>\n",
       "      <td>Elijah Wood|Ian McKellen|Viggo Mortensen|Liv Tyler|Orlando Bloom</td>\n",
       "      <td>Peter Jackson</td>\n",
       "      <td>A New Power Is Rising.</td>\n",
       "      <td>Frodo and Sam are trekking to Mordor to destroy the One Ring of Power while G...</td>\n",
       "      <td>179</td>\n",
       "      <td>Adventure|Fantasy|Action</td>\n",
       "      <td>WingNut Films|New Line Cinema|The Saul Zaentz Company</td>\n",
       "      <td>2002-12-18</td>\n",
       "      <td>7.8</td>\n",
       "      <td>2002</td>\n",
       "      <td>847287400</td>\n",
       "    </tr>\n",
       "    <tr>\n",
       "      <th>872</th>\n",
       "      <td>tt0253474</td>\n",
       "      <td>35000000</td>\n",
       "      <td>120072577</td>\n",
       "      <td>The Pianist</td>\n",
       "      <td>Adrien Brody|Thomas Kretschmann|Frank Finlay|Maureen Lipman|Emilia Fox</td>\n",
       "      <td>Roman Polanski</td>\n",
       "      <td>Music was his passion. Survival was his masterpiece.</td>\n",
       "      <td>The Pianist is a film adapted from the biography of Wladyslaw Szpilman. A Jew...</td>\n",
       "      <td>150</td>\n",
       "      <td>Drama|War</td>\n",
       "      <td>Bac Films|Canal+Polska|Heritage Films|Studio Babelsberg|Agencja Produkcji Fil...</td>\n",
       "      <td>2002-09-24</td>\n",
       "      <td>7.9</td>\n",
       "      <td>2002</td>\n",
       "      <td>85072577</td>\n",
       "    </tr>\n",
       "    <tr>\n",
       "      <th>1081</th>\n",
       "      <td>tt0167260</td>\n",
       "      <td>94000000</td>\n",
       "      <td>1118888979</td>\n",
       "      <td>The Lord of the Rings: The Return of the King</td>\n",
       "      <td>Elijah Wood|Ian McKellen|Viggo Mortensen|Liv Tyler|Orlando Bloom</td>\n",
       "      <td>Peter Jackson</td>\n",
       "      <td>The eye of the enemy is moving.</td>\n",
       "      <td>Aragorn is revealed as the heir to the ancient kings as he, Gandalf and the o...</td>\n",
       "      <td>201</td>\n",
       "      <td>Adventure|Fantasy|Action</td>\n",
       "      <td>WingNut Films|New Line Cinema</td>\n",
       "      <td>2003-12-01</td>\n",
       "      <td>7.9</td>\n",
       "      <td>2003</td>\n",
       "      <td>1024888979</td>\n",
       "    </tr>\n",
       "    <tr>\n",
       "      <th>1183</th>\n",
       "      <td>tt0993846</td>\n",
       "      <td>100000000</td>\n",
       "      <td>392000694</td>\n",
       "      <td>The Wolf of Wall Street</td>\n",
       "      <td>Leonardo DiCaprio|Jonah Hill|Margot Robbie|Kyle Chandler|Rob Reiner</td>\n",
       "      <td>Martin Scorsese</td>\n",
       "      <td>EARN. SPEND. PARTY.</td>\n",
       "      <td>A New York stockbroker refuses to cooperate in a large securities fraud case ...</td>\n",
       "      <td>180</td>\n",
       "      <td>Crime|Drama|Comedy</td>\n",
       "      <td>Paramount Pictures|Appian Way|EMJAG Productions|Red Granite Pictures|Sikelia ...</td>\n",
       "      <td>2013-12-25</td>\n",
       "      <td>7.9</td>\n",
       "      <td>2013</td>\n",
       "      <td>292000694</td>\n",
       "    </tr>\n",
       "    <tr>\n",
       "      <th>1188</th>\n",
       "      <td>tt1798709</td>\n",
       "      <td>23000000</td>\n",
       "      <td>47351251</td>\n",
       "      <td>Her</td>\n",
       "      <td>Joaquin Phoenix|Scarlett Johansson|Rooney Mara|Amy Adams|Olivia Wilde</td>\n",
       "      <td>Spike Jonze</td>\n",
       "      <td>A Spike Jonze Love Story</td>\n",
       "      <td>In the not so distant future, Theodore, a lonely writer purchases a newly dev...</td>\n",
       "      <td>126</td>\n",
       "      <td>Romance|Science Fiction|Drama</td>\n",
       "      <td>Annapurna Pictures</td>\n",
       "      <td>2013-12-18</td>\n",
       "      <td>7.8</td>\n",
       "      <td>2013</td>\n",
       "      <td>24351251</td>\n",
       "    </tr>\n",
       "    <tr>\n",
       "      <th>1191</th>\n",
       "      <td>tt2024544</td>\n",
       "      <td>20000000</td>\n",
       "      <td>187000000</td>\n",
       "      <td>12 Years a Slave</td>\n",
       "      <td>Chiwetel Ejiofor|Michael Fassbender|Lupita Nyong'o|Benedict Cumberbatch|Paul ...</td>\n",
       "      <td>Steve McQueen</td>\n",
       "      <td>The extraordinary true story of Solomon Northup</td>\n",
       "      <td>In the pre-Civil War United States, Solomon Northup, a free black man from up...</td>\n",
       "      <td>134</td>\n",
       "      <td>Drama|History</td>\n",
       "      <td>Plan B Entertainment|Regency Enterprises|River Road Entertainment|Film4|New R...</td>\n",
       "      <td>2013-10-18</td>\n",
       "      <td>7.9</td>\n",
       "      <td>2013</td>\n",
       "      <td>167000000</td>\n",
       "    </tr>\n",
       "    <tr>\n",
       "      <th>1205</th>\n",
       "      <td>tt1392214</td>\n",
       "      <td>46000000</td>\n",
       "      <td>122126687</td>\n",
       "      <td>Prisoners</td>\n",
       "      <td>Hugh Jackman|Jake Gyllenhaal|Paul Dano|Maria Bello|Melissa Leo</td>\n",
       "      <td>Denis Villeneuve</td>\n",
       "      <td>Every moment matters.</td>\n",
       "      <td>When Keller Dover's daughter and her friend go missing, he takes matters into...</td>\n",
       "      <td>153</td>\n",
       "      <td>Drama|Thriller|Crime</td>\n",
       "      <td>Alcon Entertainment|Madhouse Entertainment|8:38 Productions</td>\n",
       "      <td>2013-09-18</td>\n",
       "      <td>7.8</td>\n",
       "      <td>2013</td>\n",
       "      <td>76126687</td>\n",
       "    </tr>\n",
       "    <tr>\n",
       "      <th>1213</th>\n",
       "      <td>tt0790636</td>\n",
       "      <td>5000000</td>\n",
       "      <td>55198285</td>\n",
       "      <td>Dallas Buyers Club</td>\n",
       "      <td>Matthew McConaughey|Jennifer Garner|Jared Leto|Denis O'Hare|Steve Zahn</td>\n",
       "      <td>Jean-Marc VallÃ©e</td>\n",
       "      <td>Sometimes it takes a hustler to change the world</td>\n",
       "      <td>Loosely based on the true-life tale of Ron Woodroof, a drug-taking, women-lov...</td>\n",
       "      <td>117</td>\n",
       "      <td>Drama|History</td>\n",
       "      <td>Universal Studios|Universal Pictures|Voltage Pictures|Truth Entertainment</td>\n",
       "      <td>2013-09-07</td>\n",
       "      <td>7.8</td>\n",
       "      <td>2013</td>\n",
       "      <td>50198285</td>\n",
       "    </tr>\n",
       "    <tr>\n",
       "      <th>1444</th>\n",
       "      <td>tt0482571</td>\n",
       "      <td>40000000</td>\n",
       "      <td>109676311</td>\n",
       "      <td>The Prestige</td>\n",
       "      <td>Hugh Jackman|Christian Bale|Michael Caine|Scarlett Johansson|Andy Serkis</td>\n",
       "      <td>Christopher Nolan</td>\n",
       "      <td>Are You Watching Closely?</td>\n",
       "      <td>A mysterious story of two magicians whose intense rivalry leads them on a lif...</td>\n",
       "      <td>130</td>\n",
       "      <td>Drama|Mystery|Thriller</td>\n",
       "      <td>Touchstone Pictures|Syncopy</td>\n",
       "      <td>2006-10-19</td>\n",
       "      <td>7.8</td>\n",
       "      <td>2006</td>\n",
       "      <td>69676311</td>\n",
       "    </tr>\n",
       "    <tr>\n",
       "      <th>1563</th>\n",
       "      <td>tt0338013</td>\n",
       "      <td>20000000</td>\n",
       "      <td>72258126</td>\n",
       "      <td>Eternal Sunshine of the Spotless Mind</td>\n",
       "      <td>Jim Carrey|Kate Winslet|Elijah Wood|Mark Ruffalo|Kirsten Dunst</td>\n",
       "      <td>Michel Gondry</td>\n",
       "      <td>I already forget how I used to feel about you.</td>\n",
       "      <td>Joel Barish, heartbroken that his girlfriend underwent a procedure to erase h...</td>\n",
       "      <td>108</td>\n",
       "      <td>Science Fiction|Drama|Romance</td>\n",
       "      <td>Anonymous Content|This Is That Productions|Focus Features</td>\n",
       "      <td>2004-03-19</td>\n",
       "      <td>7.8</td>\n",
       "      <td>2004</td>\n",
       "      <td>52258126</td>\n",
       "    </tr>\n",
       "    <tr>\n",
       "      <th>1688</th>\n",
       "      <td>tt0469494</td>\n",
       "      <td>25000000</td>\n",
       "      <td>76181545</td>\n",
       "      <td>There Will Be Blood</td>\n",
       "      <td>Daniel Day-Lewis|Paul Dano|Dillon Freasier|CiarÃ¡n Hinds|Kevin J. O'Connor</td>\n",
       "      <td>Paul Thomas Anderson</td>\n",
       "      <td>There Will Be Greed. There Will Be Vengeance.</td>\n",
       "      <td>When ruthless oil prospector, Daniel Plainview learns of oil-rich land in Cal...</td>\n",
       "      <td>158</td>\n",
       "      <td>Drama</td>\n",
       "      <td>Miramax Films|Ghoulardi Film Company|Paramount Vantage</td>\n",
       "      <td>2007-12-28</td>\n",
       "      <td>7.8</td>\n",
       "      <td>2007</td>\n",
       "      <td>51181545</td>\n",
       "    </tr>\n",
       "    <tr>\n",
       "      <th>1800</th>\n",
       "      <td>tt0209144</td>\n",
       "      <td>9000000</td>\n",
       "      <td>39723096</td>\n",
       "      <td>Memento</td>\n",
       "      <td>Guy Pearce|Carrie-Anne Moss|Joe Pantoliano|Mark Boone Junior|Russ Fega</td>\n",
       "      <td>Christopher Nolan</td>\n",
       "      <td>Some memories are best forgotten.</td>\n",
       "      <td>Suffering short-term memory loss after a head injury, Leonard Shelby embarks ...</td>\n",
       "      <td>113</td>\n",
       "      <td>Mystery|Thriller</td>\n",
       "      <td>Summit Entertainment|Newmarket Capital Group|Team Todd|I Remember Productions</td>\n",
       "      <td>2000-10-11</td>\n",
       "      <td>7.9</td>\n",
       "      <td>2000</td>\n",
       "      <td>30723096</td>\n",
       "    </tr>\n",
       "  </tbody>\n",
       "</table>\n",
       "</div>"
      ],
      "text/plain": [
       "        imdb_id     budget     revenue  \\\n",
       "9     tt2096673  175000000   853708609   \n",
       "28    tt1895587   20000000    88346473   \n",
       "34    tt3170832    6000000    35401758   \n",
       "118   tt0816692  165000000   621752480   \n",
       "119   tt2015381  170000000   773312399   \n",
       "124   tt2245084  165000000   652105443   \n",
       "125   tt2084970   14000000   233555708   \n",
       "128   tt2267998   61000000   369330363   \n",
       "138   tt2278388   30000000   174600318   \n",
       "155   tt2980516   15000000   121201940   \n",
       "177   tt2582846   12000000   305151265   \n",
       "283   tt0485947   47000000     3547209   \n",
       "316   tt1187043    9000000    70000000   \n",
       "370   tt1375666  160000000   825500000   \n",
       "496   tt0120737   93000000   871368364   \n",
       "599   tt0468569  185000000  1001921825   \n",
       "863   tt0167261   79000000   926287400   \n",
       "872   tt0253474   35000000   120072577   \n",
       "1081  tt0167260   94000000  1118888979   \n",
       "1183  tt0993846  100000000   392000694   \n",
       "1188  tt1798709   23000000    47351251   \n",
       "1191  tt2024544   20000000   187000000   \n",
       "1205  tt1392214   46000000   122126687   \n",
       "1213  tt0790636    5000000    55198285   \n",
       "1444  tt0482571   40000000   109676311   \n",
       "1563  tt0338013   20000000    72258126   \n",
       "1688  tt0469494   25000000    76181545   \n",
       "1800  tt0209144    9000000    39723096   \n",
       "\n",
       "                                         original_title  \\\n",
       "9                                            Inside Out   \n",
       "28                                            Spotlight   \n",
       "34                                                 Room   \n",
       "118                                        Interstellar   \n",
       "119                             Guardians of the Galaxy   \n",
       "124                                          Big Hero 6   \n",
       "125                                  The Imitation Game   \n",
       "128                                           Gone Girl   \n",
       "138                            The Grand Budapest Hotel   \n",
       "155                            The Theory of Everything   \n",
       "177                              The Fault in Our Stars   \n",
       "283                                          Mr. Nobody   \n",
       "316                                            3 Idiots   \n",
       "370                                           Inception   \n",
       "496   The Lord of the Rings: The Fellowship of the Ring   \n",
       "599                                     The Dark Knight   \n",
       "863               The Lord of the Rings: The Two Towers   \n",
       "872                                         The Pianist   \n",
       "1081      The Lord of the Rings: The Return of the King   \n",
       "1183                            The Wolf of Wall Street   \n",
       "1188                                                Her   \n",
       "1191                                   12 Years a Slave   \n",
       "1205                                          Prisoners   \n",
       "1213                                 Dallas Buyers Club   \n",
       "1444                                       The Prestige   \n",
       "1563              Eternal Sunshine of the Spotless Mind   \n",
       "1688                                There Will Be Blood   \n",
       "1800                                            Memento   \n",
       "\n",
       "                                                                                  cast  \\\n",
       "9                        Amy Poehler|Phyllis Smith|Richard Kind|Bill Hader|Lewis Black   \n",
       "28             Mark Ruffalo|Michael Keaton|Rachel McAdams|Liev Schreiber|John Slattery   \n",
       "34                 Brie Larson|Jacob Tremblay|Joan Allen|Sean Bridgers|William H. Macy   \n",
       "118     Matthew McConaughey|Jessica Chastain|Anne Hathaway|Michael Caine|Casey Affleck   \n",
       "119                    Chris Pratt|Zoe Saldana|Dave Bautista|Vin Diesel|Bradley Cooper   \n",
       "124                      Scott Adsit|Ryan Potter|Daniel Henney|T.J. Miller|Jamie Chung   \n",
       "125        Benedict Cumberbatch|Keira Knightley|Matthew Goode|Rory Kinnear|Allen Leech   \n",
       "128              Ben Affleck|Rosamund Pike|Carrie Coon|Neil Patrick Harris|Tyler Perry   \n",
       "138         Ralph Fiennes|Tony Revolori|F. Murray Abraham|Mathieu Amalric|Adrien Brody   \n",
       "155               Eddie Redmayne|Felicity Jones|Harry Lloyd|David Thewlis|Emily Watson   \n",
       "177                    Shailene Woodley|Ansel Elgort|Nat Wolff|Laura Dern|Sam Trammell   \n",
       "283                    Jared Leto|Diane Kruger|Linh Äan Pháº¡m|Sarah Polley|Rhys Ifans   \n",
       "316                       Aamir Khan|Kareena Kapoor|Madhavan|Sharman Joshi|Boman Irani   \n",
       "370           Leonardo DiCaprio|Joseph Gordon-Levitt|Ellen Page|Tom Hardy|Ken Watanabe   \n",
       "496                   Elijah Wood|Ian McKellen|Viggo Mortensen|Liv Tyler|Orlando Bloom   \n",
       "599                Christian Bale|Michael Caine|Heath Ledger|Aaron Eckhart|Gary Oldman   \n",
       "863                   Elijah Wood|Ian McKellen|Viggo Mortensen|Liv Tyler|Orlando Bloom   \n",
       "872             Adrien Brody|Thomas Kretschmann|Frank Finlay|Maureen Lipman|Emilia Fox   \n",
       "1081                  Elijah Wood|Ian McKellen|Viggo Mortensen|Liv Tyler|Orlando Bloom   \n",
       "1183               Leonardo DiCaprio|Jonah Hill|Margot Robbie|Kyle Chandler|Rob Reiner   \n",
       "1188             Joaquin Phoenix|Scarlett Johansson|Rooney Mara|Amy Adams|Olivia Wilde   \n",
       "1191  Chiwetel Ejiofor|Michael Fassbender|Lupita Nyong'o|Benedict Cumberbatch|Paul ...   \n",
       "1205                    Hugh Jackman|Jake Gyllenhaal|Paul Dano|Maria Bello|Melissa Leo   \n",
       "1213            Matthew McConaughey|Jennifer Garner|Jared Leto|Denis O'Hare|Steve Zahn   \n",
       "1444          Hugh Jackman|Christian Bale|Michael Caine|Scarlett Johansson|Andy Serkis   \n",
       "1563                    Jim Carrey|Kate Winslet|Elijah Wood|Mark Ruffalo|Kirsten Dunst   \n",
       "1688        Daniel Day-Lewis|Paul Dano|Dillon Freasier|CiarÃ¡n Hinds|Kevin J. O'Connor   \n",
       "1800            Guy Pearce|Carrie-Anne Moss|Joe Pantoliano|Mark Boone Junior|Russ Fega   \n",
       "\n",
       "                     director  \\\n",
       "9                 Pete Docter   \n",
       "28               Tom McCarthy   \n",
       "34           Lenny Abrahamson   \n",
       "118         Christopher Nolan   \n",
       "119                James Gunn   \n",
       "124   Don Hall|Chris Williams   \n",
       "125             Morten Tyldum   \n",
       "128             David Fincher   \n",
       "138              Wes Anderson   \n",
       "155               James Marsh   \n",
       "177                Josh Boone   \n",
       "283          Jaco Van Dormael   \n",
       "316           Rajkumar Hirani   \n",
       "370         Christopher Nolan   \n",
       "496             Peter Jackson   \n",
       "599         Christopher Nolan   \n",
       "863             Peter Jackson   \n",
       "872            Roman Polanski   \n",
       "1081            Peter Jackson   \n",
       "1183          Martin Scorsese   \n",
       "1188              Spike Jonze   \n",
       "1191            Steve McQueen   \n",
       "1205         Denis Villeneuve   \n",
       "1213        Jean-Marc VallÃ©e   \n",
       "1444        Christopher Nolan   \n",
       "1563            Michel Gondry   \n",
       "1688     Paul Thomas Anderson   \n",
       "1800        Christopher Nolan   \n",
       "\n",
       "                                                         tagline  \\\n",
       "9                       Meet the little voices inside your head.   \n",
       "28                           Break the story. Break the silence.   \n",
       "34                                      Love knows no boundaries   \n",
       "118   Mankind was born on Earth. It was never meant to die here.   \n",
       "119                                  All heroes start somewhere.   \n",
       "124               From the creators of Wreck-it Ralph and Frozen   \n",
       "125            The true enigma was the man who cracked the code.   \n",
       "128                  You don't know what you've got 'til it's...   \n",
       "138                      A perfect holiday without leaving home.   \n",
       "155            His Mind Changed Our World. Her Love Changed His.   \n",
       "177                                          One Sick Love Story   \n",
       "283                     Nothing is real, everything is possible.   \n",
       "316                           Don't BE A STUPID BE AN I.D.I.O.T.   \n",
       "370                         Your mind is the scene of the crime.   \n",
       "496                                    One ring to rule them all   \n",
       "599                                              Why So Serious?   \n",
       "863                                       A New Power Is Rising.   \n",
       "872         Music was his passion. Survival was his masterpiece.   \n",
       "1081                             The eye of the enemy is moving.   \n",
       "1183                                         EARN. SPEND. PARTY.   \n",
       "1188                                    A Spike Jonze Love Story   \n",
       "1191             The extraordinary true story of Solomon Northup   \n",
       "1205                                       Every moment matters.   \n",
       "1213            Sometimes it takes a hustler to change the world   \n",
       "1444                                   Are You Watching Closely?   \n",
       "1563              I already forget how I used to feel about you.   \n",
       "1688               There Will Be Greed. There Will Be Vengeance.   \n",
       "1800                           Some memories are best forgotten.   \n",
       "\n",
       "                                                                              overview  \\\n",
       "9     Growing up can be a bumpy road, and it's no exception for Riley, who is uproo...   \n",
       "28    The true story of how The Boston Globe uncovered the massive scandal of child...   \n",
       "34    Jack is a young boy of 5 years old who has lived all his life in one room. He...   \n",
       "118   Interstellar chronicles the adventures of a group of explorers who make use o...   \n",
       "119   Light years from Earth, 26 years after being abducted, Peter Quill finds hims...   \n",
       "124   The special bond that develops between plus-sized inflatable robot Baymax, an...   \n",
       "125   Based on the real life story of legendary cryptanalyst Alan Turing, the film ...   \n",
       "128   With his wife's disappearance having become the focus of an intense media cir...   \n",
       "138   The Grand Budapest Hotel tells of a legendary concierge at a famous European ...   \n",
       "155   A look at the relationship between the famous physicist Stephen Hawking and h...   \n",
       "177   Despite the tumor-shrinking medical miracle that has bought her a few years, ...   \n",
       "283   Nemo Nobody leads an ordinary existence with his wife and 3 children; one day...   \n",
       "316   In the tradition of â€œFerris Buellerâ€™s Day Offâ€ comes this refreshing com...   \n",
       "370   Cobb, a skilled thief who commits corporate espionage by infiltrating the sub...   \n",
       "496   Young hobbit Frodo Baggins, after inheriting a mysterious ring from his uncle...   \n",
       "599   Batman raises the stakes in his war on crime. With the help of Lt. Jim Gordon...   \n",
       "863   Frodo and Sam are trekking to Mordor to destroy the One Ring of Power while G...   \n",
       "872   The Pianist is a film adapted from the biography of Wladyslaw Szpilman. A Jew...   \n",
       "1081  Aragorn is revealed as the heir to the ancient kings as he, Gandalf and the o...   \n",
       "1183  A New York stockbroker refuses to cooperate in a large securities fraud case ...   \n",
       "1188  In the not so distant future, Theodore, a lonely writer purchases a newly dev...   \n",
       "1191  In the pre-Civil War United States, Solomon Northup, a free black man from up...   \n",
       "1205  When Keller Dover's daughter and her friend go missing, he takes matters into...   \n",
       "1213  Loosely based on the true-life tale of Ron Woodroof, a drug-taking, women-lov...   \n",
       "1444  A mysterious story of two magicians whose intense rivalry leads them on a lif...   \n",
       "1563  Joel Barish, heartbroken that his girlfriend underwent a procedure to erase h...   \n",
       "1688  When ruthless oil prospector, Daniel Plainview learns of oil-rich land in Cal...   \n",
       "1800  Suffering short-term memory loss after a head injury, Leonard Shelby embarks ...   \n",
       "\n",
       "      runtime                                             genres  \\\n",
       "9          94                            Comedy|Animation|Family   \n",
       "28        128                             Drama|Thriller|History   \n",
       "34        117                                     Drama|Thriller   \n",
       "118       169                    Adventure|Drama|Science Fiction   \n",
       "119       121                   Action|Science Fiction|Adventure   \n",
       "124       102           Adventure|Family|Animation|Action|Comedy   \n",
       "125       113                         History|Drama|Thriller|War   \n",
       "128       145                             Mystery|Thriller|Drama   \n",
       "138        99                                       Comedy|Drama   \n",
       "155       123                                      Drama|Romance   \n",
       "177       125                                      Romance|Drama   \n",
       "283       141              Science Fiction|Drama|Romance|Fantasy   \n",
       "316       170                               Drama|Comedy|Romance   \n",
       "370       148  Action|Thriller|Science Fiction|Mystery|Adventure   \n",
       "496       178                           Adventure|Fantasy|Action   \n",
       "599       152                        Drama|Action|Crime|Thriller   \n",
       "863       179                           Adventure|Fantasy|Action   \n",
       "872       150                                          Drama|War   \n",
       "1081      201                           Adventure|Fantasy|Action   \n",
       "1183      180                                 Crime|Drama|Comedy   \n",
       "1188      126                      Romance|Science Fiction|Drama   \n",
       "1191      134                                      Drama|History   \n",
       "1205      153                               Drama|Thriller|Crime   \n",
       "1213      117                                      Drama|History   \n",
       "1444      130                             Drama|Mystery|Thriller   \n",
       "1563      108                      Science Fiction|Drama|Romance   \n",
       "1688      158                                              Drama   \n",
       "1800      113                                   Mystery|Thriller   \n",
       "\n",
       "                                                                  production_companies  \\\n",
       "9     Walt Disney Pictures|Pixar Animation Studios|Walt Disney Studios Motion Pictures   \n",
       "28    Participant Media|Open Road Films|Anonymous Content|Rocklin / Faust|Entertain...   \n",
       "34                                Element Pictures|No Trace Camping|A24|Duperele Films   \n",
       "118   Paramount Pictures|Legendary Pictures|Warner Bros.|Syncopy|Lynda Obst Product...   \n",
       "119   Marvel Studios|Moving Picture Company (MPC)|Bulletproof Cupid|Revolution Sun ...   \n",
       "124                                 Walt Disney Pictures|Walt Disney Animation Studios   \n",
       "125                                             Black Bear Pictures|Bristol Automotive   \n",
       "128   Twentieth Century Fox Film Corporation|Regency Enterprises|New Regency Pictur...   \n",
       "138   Fox Searchlight Pictures|Scott Rudin Productions|Studio Babelsberg|Indian Pai...   \n",
       "155                                                                Working Title Films   \n",
       "177                      Fox 2000 Pictures|Temple Hill Entertainment|TSG Entertainment   \n",
       "283                                           Pan EuropÃ©enne Production|Virtual Films   \n",
       "316                                                     Vidhu Vinod Chopra Productions   \n",
       "370                                            Legendary Pictures|Warner Bros.|Syncopy   \n",
       "496                              WingNut Films|New Line Cinema|The Saul Zaentz Company   \n",
       "599                                  DC Comics|Legendary Pictures|Warner Bros.|Syncopy   \n",
       "863                              WingNut Films|New Line Cinema|The Saul Zaentz Company   \n",
       "872   Bac Films|Canal+Polska|Heritage Films|Studio Babelsberg|Agencja Produkcji Fil...   \n",
       "1081                                                     WingNut Films|New Line Cinema   \n",
       "1183  Paramount Pictures|Appian Way|EMJAG Productions|Red Granite Pictures|Sikelia ...   \n",
       "1188                                                                Annapurna Pictures   \n",
       "1191  Plan B Entertainment|Regency Enterprises|River Road Entertainment|Film4|New R...   \n",
       "1205                       Alcon Entertainment|Madhouse Entertainment|8:38 Productions   \n",
       "1213         Universal Studios|Universal Pictures|Voltage Pictures|Truth Entertainment   \n",
       "1444                                                       Touchstone Pictures|Syncopy   \n",
       "1563                         Anonymous Content|This Is That Productions|Focus Features   \n",
       "1688                            Miramax Films|Ghoulardi Film Company|Paramount Vantage   \n",
       "1800     Summit Entertainment|Newmarket Capital Group|Team Todd|I Remember Productions   \n",
       "\n",
       "     release_date  vote_average  release_year      profit  \n",
       "9      2015-06-09           8.0          2015   678708609  \n",
       "28     2015-11-06           7.8          2015    68346473  \n",
       "34     2015-10-16           8.0          2015    29401758  \n",
       "118    2014-11-05           8.0          2014   456752480  \n",
       "119    2014-07-30           7.9          2014   603312399  \n",
       "124    2014-10-24           7.8          2014   487105443  \n",
       "125    2014-11-14           8.0          2014   219555708  \n",
       "128    2014-10-01           7.9          2014   308330363  \n",
       "138    2014-02-26           7.9          2014   144600318  \n",
       "155    2014-11-26           7.8          2014   106201940  \n",
       "177    2014-05-16           7.8          2014   293151265  \n",
       "283    2009-09-11           7.8          2009   -43452791  \n",
       "316    2009-12-23           7.8          2009    61000000  \n",
       "370    2010-07-14           7.9          2010   665500000  \n",
       "496    2001-12-18           7.8          2001   778368364  \n",
       "599    2008-07-16           8.1          2008   816921825  \n",
       "863    2002-12-18           7.8          2002   847287400  \n",
       "872    2002-09-24           7.9          2002    85072577  \n",
       "1081   2003-12-01           7.9          2003  1024888979  \n",
       "1183   2013-12-25           7.9          2013   292000694  \n",
       "1188   2013-12-18           7.8          2013    24351251  \n",
       "1191   2013-10-18           7.9          2013   167000000  \n",
       "1205   2013-09-18           7.8          2013    76126687  \n",
       "1213   2013-09-07           7.8          2013    50198285  \n",
       "1444   2006-10-19           7.8          2006    69676311  \n",
       "1563   2004-03-19           7.8          2004    52258126  \n",
       "1688   2007-12-28           7.8          2007    51181545  \n",
       "1800   2000-10-11           7.9          2000    30723096  "
      ]
     },
     "execution_count": 488,
     "metadata": {},
     "output_type": "execute_result"
    }
   ],
   "source": [
    "border = np.quantile(data['vote_average'], 0.99)\n",
    "data[data['vote_average'] >= border]"
   ]
  },
  {
   "cell_type": "markdown",
   "metadata": {
    "colab_type": "text",
    "id": "MdXsUXbCVqAV"
   },
   "source": [
    "# 27. Какие актеры чаще всего снимаются в одном фильме вместе?\n"
   ]
  },
  {
   "cell_type": "code",
   "execution_count": 489,
   "metadata": {
    "colab_type": "text",
    "id": "4ymnxEVoVqAW"
   },
   "outputs": [],
   "source": [
    "answers['27'] = '5. Daniel Radcliffe & Rupert Grint'\n",
    "# +"
   ]
  },
  {
   "cell_type": "code",
   "execution_count": 490,
   "metadata": {},
   "outputs": [
    {
     "data": {
      "text/plain": [
       "(Daniel Radcliffe, Emma Watson)        8\n",
       "(Daniel Radcliffe, Rupert Grint)       8\n",
       "(Rupert Grint, Emma Watson)            7\n",
       "(Johnny Depp, Helena Bonham Carter)    6\n",
       "(Ben Stiller, Owen Wilson)             6\n",
       "Name: cast, dtype: int64"
      ]
     },
     "execution_count": 490,
     "metadata": {},
     "output_type": "execute_result"
    }
   ],
   "source": [
    "# формируем Series с парами актёров, снявшихся вместе, и рассчитываем число вхождений каждой пары\n",
    "combinations_data = get_combinations_list(data)\n",
    "combinations_data.value_counts().head(5)"
   ]
  },
  {
   "cell_type": "markdown",
   "metadata": {},
   "source": [
    "ВАРИАНТ 2"
   ]
  },
  {
   "cell_type": "code",
   "execution_count": 491,
   "metadata": {},
   "outputs": [
    {
     "data": {
      "text/plain": [
       "[(('Daniel Radcliffe', 'Rupert Grint'), 8),\n",
       " (('Daniel Radcliffe', 'Emma Watson'), 8),\n",
       " (('Rupert Grint', 'Emma Watson'), 7),\n",
       " (('Ben Stiller', 'Owen Wilson'), 6),\n",
       " (('Johnny Depp', 'Helena Bonham Carter'), 6)]"
      ]
     },
     "execution_count": 491,
     "metadata": {},
     "output_type": "execute_result"
    }
   ],
   "source": [
    "# формируем Series с парами актёров, снявшихся вместе, и получаем наиболее часто встреяающиеся пары\n",
    "combinations_data = get_combinations_list(data)\n",
    "Counter(combinations_data).most_common(5)"
   ]
  },
  {
   "cell_type": "markdown",
   "metadata": {
    "colab_type": "text",
    "id": "U0nONFnGVqAX"
   },
   "source": [
    "# Submission"
   ]
  },
  {
   "cell_type": "code",
   "execution_count": 492,
   "metadata": {
    "colab": {},
    "colab_type": "code",
    "id": "IfcaRO9-VqAX",
    "outputId": "0f132912-32bb-4196-c98c-abfbc4ad5a5f"
   },
   "outputs": [
    {
     "data": {
      "text/plain": [
       "{'1': '5. Pirates of the Caribbean: On Stranger Tides (tt1298650)',\n",
       " '2': '2. Gods and Generals (tt0279111)',\n",
       " '3': '3. Winnie the Pooh (tt1449283)',\n",
       " '4': '2. 110',\n",
       " '5': '1. 107',\n",
       " '6': '5. Avatar (tt0499549)',\n",
       " '7': '5. The Lone Ranger (tt1210819)',\n",
       " '8': '1. 1478',\n",
       " '9': '4. The Dark Knight (tt0468569)',\n",
       " '10': '5. The Lone Ranger (tt1210819)',\n",
       " '11': '3. Drama',\n",
       " '12': '1. Drama ',\n",
       " '13': '5. Peter Jackson',\n",
       " '14': '3. Robert Rodriguez',\n",
       " '15': '3. Chris Hemsworth',\n",
       " '16': '3. Matt Damon',\n",
       " '17': '2. Action',\n",
       " '18': '1. K-19: The Widowmaker (tt0267626)',\n",
       " '19': '5. 2015',\n",
       " '20': '1. 2014',\n",
       " '21': '4. Сентябрь',\n",
       " '22': '2. 450',\n",
       " '23': '5. Peter Jackson',\n",
       " '24': '5. Four By Two Productions',\n",
       " '25': '3. Midnight Picture Show',\n",
       " '26': '1. Inside Out, The Dark Knight, 12 Years a Slave',\n",
       " '27': '5. Daniel Radcliffe & Rupert Grint'}"
      ]
     },
     "execution_count": 492,
     "metadata": {},
     "output_type": "execute_result"
    }
   ],
   "source": [
    "# в конце можно посмотреть свои ответы к каждому вопросу\n",
    "answers"
   ]
  },
  {
   "cell_type": "code",
   "execution_count": 493,
   "metadata": {
    "colab": {},
    "colab_type": "code",
    "id": "SiRmHPl8VqAd"
   },
   "outputs": [
    {
     "data": {
      "text/plain": [
       "27"
      ]
     },
     "execution_count": 493,
     "metadata": {},
     "output_type": "execute_result"
    }
   ],
   "source": [
    "# и убедиться что ни чего не пропустил)\n",
    "len(answers)"
   ]
  },
  {
   "cell_type": "code",
   "execution_count": 0,
   "metadata": {
    "colab": {},
    "colab_type": "code",
    "id": "uCfuTkRbVqAg"
   },
   "outputs": [],
   "source": []
  },
  {
   "cell_type": "code",
   "execution_count": 0,
   "metadata": {
    "colab": {},
    "colab_type": "code",
    "id": "Vwx3NrkSVqAl"
   },
   "outputs": [],
   "source": []
  }
 ],
 "metadata": {
  "colab": {
   "name": "Copy of [SF-DST] Movies IMBD v4.1 TEMPLATE.ipynb",
   "provenance": []
  },
  "kernelspec": {
   "display_name": "Python 3",
   "language": "python",
   "name": "python3"
  },
  "language_info": {
   "codemirror_mode": {
    "name": "ipython",
    "version": 3
   },
   "file_extension": ".py",
   "mimetype": "text/x-python",
   "name": "python",
   "nbconvert_exporter": "python",
   "pygments_lexer": "ipython3",
   "version": "3.8.5"
  }
 },
 "nbformat": 4,
 "nbformat_minor": 1
}

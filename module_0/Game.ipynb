{
 "cells": [
  {
   "cell_type": "code",
   "execution_count": 1,
   "metadata": {},
   "outputs": [
    {
     "name": "stdout",
     "output_type": "stream",
     "text": [
      "Ваш алгоритм угадывает число в среднем за 5 попыток\n"
     ]
    },
    {
     "data": {
      "text/plain": [
       "5"
      ]
     },
     "execution_count": 1,
     "metadata": {},
     "output_type": "execute_result"
    }
   ],
   "source": [
    "import numpy as np\n",
    "\n",
    "def game_core_v3(number):\n",
    "    '''Функция принимает загаданное число и возвращает число попыток.\n",
    "    \n",
    "    Устанавливаем верхнюю и нижнюю границы диапазона, в котором ведётся поиск. \n",
    "    Сначала проверяем число из середины диапазона. \n",
    "    Далее, в зависимости от того, больше это число или меньше загаданного, \n",
    "    корректируем диапазон и проверяем число из середины нового диапазона. \n",
    "    Повторяем, пока не угадаем число\n",
    "    '''    \n",
    "    count = 1    \n",
    "    lower_border = 0\n",
    "    upper_border = 100  \n",
    "    predict = (upper_border-lower_border) // 2\n",
    "    \n",
    "    while number != predict:\n",
    "        count += 1\n",
    "        \n",
    "        if number > predict: \n",
    "            lower_border = predict\n",
    "            if (upper_border-lower_border)//2 != 0:\n",
    "                predict += (upper_border-lower_border) // 2\n",
    "            else:\n",
    "                predict += 1\n",
    "        else: \n",
    "            upper_border = predict\n",
    "            if (upper_border-lower_border)//2 != 0:\n",
    "                predict -= (upper_border-lower_border) // 2\n",
    "            else:\n",
    "                predict -= 1\n",
    "    \n",
    "    return count\n",
    "\n",
    "    \n",
    "def score_game(game_core):\n",
    "    '''Запускаем игру 1000 раз и рассчитываем среднее количество попыток, за которое игра угадывает число'''\n",
    "    count_list = []\n",
    "    np.random.seed(1)  # фиксируем RANDOM SEED, чтобы эксперимент был воспроизводим\n",
    "    random_array = np.random.randint(1,101, size=(1000))\n",
    "    \n",
    "    for number in random_array:\n",
    "        count_list.append(game_core(number))        \n",
    "    mean_count = int(np.mean(count_list))\n",
    "    \n",
    "    print(f\"Ваш алгоритм угадывает число в среднем за {mean_count} попыток\")\n",
    "    return(mean_count)\n",
    "\n",
    "\n",
    "# запускаем\n",
    "score_game(game_core_v3)"
   ]
  }
 ],
 "metadata": {
  "kernelspec": {
   "display_name": "Python 3",
   "language": "python",
   "name": "python3"
  },
  "language_info": {
   "codemirror_mode": {
    "name": "ipython",
    "version": 3
   },
   "file_extension": ".py",
   "mimetype": "text/x-python",
   "name": "python",
   "nbconvert_exporter": "python",
   "pygments_lexer": "ipython3",
   "version": "3.8.5"
  }
 },
 "nbformat": 4,
 "nbformat_minor": 4
}

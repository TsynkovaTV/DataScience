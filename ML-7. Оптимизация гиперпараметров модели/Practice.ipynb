{
 "cells": [
  {
   "cell_type": "code",
   "execution_count": 1,
   "metadata": {},
   "outputs": [],
   "source": [
    "# импорт библиотек\n",
    "import numpy as np # для матричных вычислений\n",
    "import pandas as pd # для анализа и предобработки данных\n",
    "\n",
    "from sklearn.model_selection import train_test_split # сплитование выборки\n",
    "\n",
    "from sklearn import linear_model # линейные модели\n",
    "from sklearn import ensemble # ансамбли\n",
    "\n",
    "from sklearn import metrics #метрики\n",
    "from sklearn.model_selection import cross_val_score # для кросс-валидации\n",
    "\n",
    "from sklearn.model_selection import GridSearchCV\n",
    "from sklearn.model_selection import RandomizedSearchCV\n",
    "import hyperopt\n",
    "from hyperopt import hp, fmin, tpe, Trials\n",
    "import optuna"
   ]
  },
  {
   "cell_type": "code",
   "execution_count": 2,
   "metadata": {},
   "outputs": [
    {
     "data": {
      "text/html": [
       "<div>\n",
       "<style scoped>\n",
       "    .dataframe tbody tr th:only-of-type {\n",
       "        vertical-align: middle;\n",
       "    }\n",
       "\n",
       "    .dataframe tbody tr th {\n",
       "        vertical-align: top;\n",
       "    }\n",
       "\n",
       "    .dataframe thead th {\n",
       "        text-align: right;\n",
       "    }\n",
       "</style>\n",
       "<table border=\"1\" class=\"dataframe\">\n",
       "  <thead>\n",
       "    <tr style=\"text-align: right;\">\n",
       "      <th></th>\n",
       "      <th>Activity</th>\n",
       "      <th>D1</th>\n",
       "      <th>D2</th>\n",
       "      <th>D3</th>\n",
       "      <th>D4</th>\n",
       "      <th>D5</th>\n",
       "      <th>D6</th>\n",
       "      <th>D7</th>\n",
       "      <th>D8</th>\n",
       "      <th>D9</th>\n",
       "      <th>...</th>\n",
       "      <th>D1767</th>\n",
       "      <th>D1768</th>\n",
       "      <th>D1769</th>\n",
       "      <th>D1770</th>\n",
       "      <th>D1771</th>\n",
       "      <th>D1772</th>\n",
       "      <th>D1773</th>\n",
       "      <th>D1774</th>\n",
       "      <th>D1775</th>\n",
       "      <th>D1776</th>\n",
       "    </tr>\n",
       "  </thead>\n",
       "  <tbody>\n",
       "    <tr>\n",
       "      <th>0</th>\n",
       "      <td>1</td>\n",
       "      <td>0.000000</td>\n",
       "      <td>0.497009</td>\n",
       "      <td>0.10</td>\n",
       "      <td>0.0</td>\n",
       "      <td>0.132956</td>\n",
       "      <td>0.678031</td>\n",
       "      <td>0.273166</td>\n",
       "      <td>0.585445</td>\n",
       "      <td>0.743663</td>\n",
       "      <td>...</td>\n",
       "      <td>0</td>\n",
       "      <td>0</td>\n",
       "      <td>0</td>\n",
       "      <td>0</td>\n",
       "      <td>0</td>\n",
       "      <td>0</td>\n",
       "      <td>0</td>\n",
       "      <td>0</td>\n",
       "      <td>0</td>\n",
       "      <td>0</td>\n",
       "    </tr>\n",
       "    <tr>\n",
       "      <th>1</th>\n",
       "      <td>1</td>\n",
       "      <td>0.366667</td>\n",
       "      <td>0.606291</td>\n",
       "      <td>0.05</td>\n",
       "      <td>0.0</td>\n",
       "      <td>0.111209</td>\n",
       "      <td>0.803455</td>\n",
       "      <td>0.106105</td>\n",
       "      <td>0.411754</td>\n",
       "      <td>0.836582</td>\n",
       "      <td>...</td>\n",
       "      <td>1</td>\n",
       "      <td>1</td>\n",
       "      <td>1</td>\n",
       "      <td>1</td>\n",
       "      <td>0</td>\n",
       "      <td>1</td>\n",
       "      <td>0</td>\n",
       "      <td>0</td>\n",
       "      <td>1</td>\n",
       "      <td>0</td>\n",
       "    </tr>\n",
       "    <tr>\n",
       "      <th>2</th>\n",
       "      <td>1</td>\n",
       "      <td>0.033300</td>\n",
       "      <td>0.480124</td>\n",
       "      <td>0.00</td>\n",
       "      <td>0.0</td>\n",
       "      <td>0.209791</td>\n",
       "      <td>0.610350</td>\n",
       "      <td>0.356453</td>\n",
       "      <td>0.517720</td>\n",
       "      <td>0.679051</td>\n",
       "      <td>...</td>\n",
       "      <td>0</td>\n",
       "      <td>0</td>\n",
       "      <td>0</td>\n",
       "      <td>0</td>\n",
       "      <td>0</td>\n",
       "      <td>0</td>\n",
       "      <td>0</td>\n",
       "      <td>0</td>\n",
       "      <td>0</td>\n",
       "      <td>0</td>\n",
       "    </tr>\n",
       "    <tr>\n",
       "      <th>3</th>\n",
       "      <td>1</td>\n",
       "      <td>0.000000</td>\n",
       "      <td>0.538825</td>\n",
       "      <td>0.00</td>\n",
       "      <td>0.5</td>\n",
       "      <td>0.196344</td>\n",
       "      <td>0.724230</td>\n",
       "      <td>0.235606</td>\n",
       "      <td>0.288764</td>\n",
       "      <td>0.805110</td>\n",
       "      <td>...</td>\n",
       "      <td>0</td>\n",
       "      <td>0</td>\n",
       "      <td>0</td>\n",
       "      <td>0</td>\n",
       "      <td>0</td>\n",
       "      <td>0</td>\n",
       "      <td>0</td>\n",
       "      <td>0</td>\n",
       "      <td>0</td>\n",
       "      <td>0</td>\n",
       "    </tr>\n",
       "    <tr>\n",
       "      <th>4</th>\n",
       "      <td>0</td>\n",
       "      <td>0.100000</td>\n",
       "      <td>0.517794</td>\n",
       "      <td>0.00</td>\n",
       "      <td>0.0</td>\n",
       "      <td>0.494734</td>\n",
       "      <td>0.781422</td>\n",
       "      <td>0.154361</td>\n",
       "      <td>0.303809</td>\n",
       "      <td>0.812646</td>\n",
       "      <td>...</td>\n",
       "      <td>0</td>\n",
       "      <td>0</td>\n",
       "      <td>0</td>\n",
       "      <td>0</td>\n",
       "      <td>0</td>\n",
       "      <td>0</td>\n",
       "      <td>0</td>\n",
       "      <td>0</td>\n",
       "      <td>0</td>\n",
       "      <td>0</td>\n",
       "    </tr>\n",
       "  </tbody>\n",
       "</table>\n",
       "<p>5 rows × 1777 columns</p>\n",
       "</div>"
      ],
      "text/plain": [
       "   Activity        D1        D2    D3   D4        D5        D6        D7  \\\n",
       "0         1  0.000000  0.497009  0.10  0.0  0.132956  0.678031  0.273166   \n",
       "1         1  0.366667  0.606291  0.05  0.0  0.111209  0.803455  0.106105   \n",
       "2         1  0.033300  0.480124  0.00  0.0  0.209791  0.610350  0.356453   \n",
       "3         1  0.000000  0.538825  0.00  0.5  0.196344  0.724230  0.235606   \n",
       "4         0  0.100000  0.517794  0.00  0.0  0.494734  0.781422  0.154361   \n",
       "\n",
       "         D8        D9  ...  D1767  D1768  D1769  D1770  D1771  D1772  D1773  \\\n",
       "0  0.585445  0.743663  ...      0      0      0      0      0      0      0   \n",
       "1  0.411754  0.836582  ...      1      1      1      1      0      1      0   \n",
       "2  0.517720  0.679051  ...      0      0      0      0      0      0      0   \n",
       "3  0.288764  0.805110  ...      0      0      0      0      0      0      0   \n",
       "4  0.303809  0.812646  ...      0      0      0      0      0      0      0   \n",
       "\n",
       "   D1774  D1775  D1776  \n",
       "0      0      0      0  \n",
       "1      0      1      0  \n",
       "2      0      0      0  \n",
       "3      0      0      0  \n",
       "4      0      0      0  \n",
       "\n",
       "[5 rows x 1777 columns]"
      ]
     },
     "execution_count": 2,
     "metadata": {},
     "output_type": "execute_result"
    }
   ],
   "source": [
    "# загрузка данных\n",
    "data = pd.read_csv('_train_sem09 (1).csv')\n",
    "data.head()"
   ]
  },
  {
   "cell_type": "markdown",
   "metadata": {},
   "source": [
    "Создаем матрицу наблюдений  𝑋  и вектор ответов  𝑦"
   ]
  },
  {
   "cell_type": "code",
   "execution_count": 3,
   "metadata": {},
   "outputs": [],
   "source": [
    "X = data.drop(['Activity'], axis=1)\n",
    "y = data['Activity']"
   ]
  },
  {
   "cell_type": "markdown",
   "metadata": {},
   "source": [
    "Разделяем выборку на тренировочную и тестовую в соотношении 80/20. Для сохранения соотношений целевого признака используем параметр stratify (стратифицированное разбиение)."
   ]
  },
  {
   "cell_type": "code",
   "execution_count": 4,
   "metadata": {},
   "outputs": [],
   "source": [
    "X_train, X_test, y_train, y_test = train_test_split(X, y, stratify=y, random_state = 1, test_size = 0.2)"
   ]
  },
  {
   "cell_type": "markdown",
   "metadata": {},
   "source": [
    "# <center> Логистическая регрессия"
   ]
  },
  {
   "cell_type": "markdown",
   "metadata": {},
   "source": [
    "Обучим модель с гиперпараметрами по умолчанию и рассчитаем метрику f1"
   ]
  },
  {
   "cell_type": "code",
   "execution_count": 5,
   "metadata": {},
   "outputs": [
    {
     "name": "stdout",
     "output_type": "stream",
     "text": [
      "f1_score на тестовом наборе: 0.78\n"
     ]
    }
   ],
   "source": [
    "# создаем объект класса Логистическая регрессия\n",
    "log_reg = linear_model.LogisticRegression(max_iter = 1000)\n",
    "# обучаем модель\n",
    "log_reg.fit(X_train, y_train)\n",
    "y_test_pred = log_reg.predict(X_test)\n",
    "print('f1_score на тестовом наборе: {:.2f}'.format(metrics.f1_score(y_test, y_test_pred)))"
   ]
  },
  {
   "cell_type": "markdown",
   "metadata": {},
   "source": [
    "##  GridSearchCV"
   ]
  },
  {
   "cell_type": "code",
   "execution_count": 6,
   "metadata": {},
   "outputs": [
    {
     "name": "stdout",
     "output_type": "stream",
     "text": [
      "Wall time: 7min 58s\n",
      "f1_score на тестовом наборе: 0.79\n",
      "Наилучшие значения гиперпараметров: {'C': 0.08, 'penalty': 'l2', 'solver': 'saga'}\n"
     ]
    }
   ],
   "source": [
    "param_grid = [{'penalty': ['l1', 'l2'] ,# тип регурялизации\n",
    "              'solver': ['liblinear', 'saga'], # алгоритм оптимизации\n",
    "              'C': [0.01, 0.05, 0.08, 0.1, 0.15, 0.3, 0.5, 0.7, 0.9, 1] # уровень силы регурялизации\n",
    "              }             \n",
    "             ]\n",
    "grid_search = GridSearchCV(\n",
    "    estimator=linear_model.LogisticRegression(\n",
    "        random_state=42, # генератор случайных чисел\n",
    "        max_iter=1000 # количество итераций на сходимость\n",
    "    ), \n",
    "    param_grid=param_grid, \n",
    "    cv=5, \n",
    "    n_jobs = -1\n",
    ")  \n",
    "%time grid_search.fit(X_train, y_train) \n",
    "y_test_pred = grid_search.predict(X_test)\n",
    "print('f1_score на тестовом наборе: {:.2f}'.format(metrics.f1_score(y_test, y_test_pred)))\n",
    "print(\"Наилучшие значения гиперпараметров: {}\".format(grid_search.best_params_))"
   ]
  },
  {
   "cell_type": "markdown",
   "metadata": {},
   "source": [
    "**Удалось немного улучшить метрику**"
   ]
  },
  {
   "cell_type": "markdown",
   "metadata": {},
   "source": [
    "##  RandomizedSearchCV"
   ]
  },
  {
   "cell_type": "code",
   "execution_count": 7,
   "metadata": {},
   "outputs": [
    {
     "name": "stdout",
     "output_type": "stream",
     "text": [
      "Wall time: 6min 32s\n",
      "f1_score на тестовом наборе: 0.79\n",
      "Наилучшие значения гиперпараметров: {'solver': 'saga', 'penalty': 'l2', 'C': 0.12}\n"
     ]
    }
   ],
   "source": [
    "param_grid = {'penalty': ['l1', 'l2'] ,# тип регурялизации\n",
    "              'solver': ['liblinear', 'saga'], # алгоритм оптимизации\n",
    "               'C': list(np.linspace(0.01, 1, 10, dtype=float))}, # уровень силы регурялизации\n",
    "            \n",
    "random_search = RandomizedSearchCV(\n",
    "    estimator=linear_model.LogisticRegression(random_state=42, max_iter=1000), \n",
    "    param_distributions=param_grid, \n",
    "    cv=5, \n",
    "    n_iter = 30, \n",
    "    n_jobs = -1\n",
    ")  \n",
    "%time random_search.fit(X_train, y_train) \n",
    "y_test_pred = random_search.predict(X_test)\n",
    "print('f1_score на тестовом наборе: {:.2f}'.format(metrics.f1_score(y_test, y_test_pred)))\n",
    "print(\"Наилучшие значения гиперпараметров: {}\".format(random_search.best_params_))"
   ]
  },
  {
   "cell_type": "markdown",
   "metadata": {},
   "source": [
    "**Удалось улучшить метрику немного быстрее, чем методом GridSearchCV**"
   ]
  },
  {
   "cell_type": "markdown",
   "metadata": {},
   "source": [
    "## Optuna"
   ]
  },
  {
   "cell_type": "code",
   "execution_count": 10,
   "metadata": {},
   "outputs": [],
   "source": [
    "random_state = 42\n",
    "\n",
    "# функция минимизации\n",
    "def optuna_lr(trial):\n",
    "  # задаем пространства поиска гиперпараметров\n",
    "  penalty = trial.suggest_categorical('penalty', ['l1', 'l2'])\n",
    "  solver = trial.suggest_categorical('solver', ['liblinear', 'saga'])\n",
    "  C = trial.suggest_float('C', 0.01, 1,)\n",
    "\n",
    "  # создаем модель\n",
    "  model = linear_model.LogisticRegression(penalty=penalty,\n",
    "                                          solver=solver,\n",
    "                                          C=C,\n",
    "                                          random_state=random_state)\n",
    "  # обучаем модель\n",
    "  model.fit(X_train, y_train)\n",
    "  # применяем кросс-валидацию\n",
    "  score = cross_val_score(model, X_train, y_train, cv=5, scoring=\"f1\", n_jobs=-1).mean()\n",
    "\n",
    "  return score"
   ]
  },
  {
   "cell_type": "code",
   "execution_count": 11,
   "metadata": {},
   "outputs": [
    {
     "name": "stderr",
     "output_type": "stream",
     "text": [
      "\u001b[32m[I 2022-07-14 00:50:02,162]\u001b[0m A new study created in memory with name: LogisticRegression\u001b[0m\n",
      "\u001b[32m[I 2022-07-14 00:50:04,293]\u001b[0m Trial 0 finished with value: 0.7817114644693265 and parameters: {'penalty': 'l2', 'solver': 'liblinear', 'C': 0.12479089948812304}. Best is trial 0 with value: 0.7817114644693265.\u001b[0m\n",
      "C:\\anaconda3\\lib\\site-packages\\sklearn\\linear_model\\_sag.py:350: ConvergenceWarning: The max_iter was reached which means the coef_ did not converge\n",
      "  warnings.warn(\n",
      "\u001b[32m[I 2022-07-14 00:50:24,248]\u001b[0m Trial 1 finished with value: 0.7795877974014873 and parameters: {'penalty': 'l2', 'solver': 'saga', 'C': 0.43556631890969055}. Best is trial 0 with value: 0.7817114644693265.\u001b[0m\n",
      "C:\\anaconda3\\lib\\site-packages\\sklearn\\linear_model\\_sag.py:350: ConvergenceWarning: The max_iter was reached which means the coef_ did not converge\n",
      "  warnings.warn(\n",
      "\u001b[32m[I 2022-07-14 00:50:51,509]\u001b[0m Trial 2 finished with value: 0.7776086287240973 and parameters: {'penalty': 'l1', 'solver': 'saga', 'C': 0.42480208596441077}. Best is trial 0 with value: 0.7817114644693265.\u001b[0m\n",
      "\u001b[32m[I 2022-07-14 00:50:53,567]\u001b[0m Trial 3 finished with value: 0.770982773955998 and parameters: {'penalty': 'l2', 'solver': 'liblinear', 'C': 0.6194147345637759}. Best is trial 0 with value: 0.7817114644693265.\u001b[0m\n",
      "\u001b[32m[I 2022-07-14 00:50:55,575]\u001b[0m Trial 4 finished with value: 0.7761859175321345 and parameters: {'penalty': 'l2', 'solver': 'liblinear', 'C': 0.46919232269645583}. Best is trial 0 with value: 0.7817114644693265.\u001b[0m\n",
      "\u001b[32m[I 2022-07-14 00:50:57,653]\u001b[0m Trial 5 finished with value: 0.7724147578499818 and parameters: {'penalty': 'l1', 'solver': 'liblinear', 'C': 0.6156934765727405}. Best is trial 0 with value: 0.7817114644693265.\u001b[0m\n",
      "\u001b[32m[I 2022-07-14 00:50:59,592]\u001b[0m Trial 6 finished with value: 0.7810067558150756 and parameters: {'penalty': 'l1', 'solver': 'liblinear', 'C': 0.2733492492500235}. Best is trial 0 with value: 0.7817114644693265.\u001b[0m\n",
      "\u001b[32m[I 2022-07-14 00:51:01,086]\u001b[0m Trial 7 finished with value: 0.7819098565841472 and parameters: {'penalty': 'l2', 'solver': 'liblinear', 'C': 0.10340835095169236}. Best is trial 7 with value: 0.7819098565841472.\u001b[0m\n",
      "C:\\anaconda3\\lib\\site-packages\\sklearn\\linear_model\\_sag.py:350: ConvergenceWarning: The max_iter was reached which means the coef_ did not converge\n",
      "  warnings.warn(\n",
      "\u001b[32m[I 2022-07-14 00:51:19,402]\u001b[0m Trial 8 finished with value: 0.7809216283900556 and parameters: {'penalty': 'l2', 'solver': 'saga', 'C': 0.32823478474559376}. Best is trial 7 with value: 0.7819098565841472.\u001b[0m\n",
      "C:\\anaconda3\\lib\\site-packages\\sklearn\\linear_model\\_sag.py:350: ConvergenceWarning: The max_iter was reached which means the coef_ did not converge\n",
      "  warnings.warn(\n",
      "\u001b[32m[I 2022-07-14 00:51:37,826]\u001b[0m Trial 9 finished with value: 0.7741062890059368 and parameters: {'penalty': 'l2', 'solver': 'saga', 'C': 0.9950848991693544}. Best is trial 7 with value: 0.7819098565841472.\u001b[0m\n",
      "\u001b[32m[I 2022-07-14 00:51:38,861]\u001b[0m Trial 10 finished with value: 0.7719074333830994 and parameters: {'penalty': 'l1', 'solver': 'liblinear', 'C': 0.06994849476054574}. Best is trial 7 with value: 0.7819098565841472.\u001b[0m\n",
      "\u001b[32m[I 2022-07-14 00:51:40,246]\u001b[0m Trial 11 finished with value: 0.7839788374821841 and parameters: {'penalty': 'l2', 'solver': 'liblinear', 'C': 0.026985557254051287}. Best is trial 11 with value: 0.7839788374821841.\u001b[0m\n",
      "\u001b[32m[I 2022-07-14 00:51:41,492]\u001b[0m Trial 12 finished with value: 0.7813322860692958 and parameters: {'penalty': 'l2', 'solver': 'liblinear', 'C': 0.01299488341825137}. Best is trial 11 with value: 0.7839788374821841.\u001b[0m\n",
      "\u001b[32m[I 2022-07-14 00:51:43,268]\u001b[0m Trial 13 finished with value: 0.7805338108821231 and parameters: {'penalty': 'l2', 'solver': 'liblinear', 'C': 0.19314220639484642}. Best is trial 11 with value: 0.7839788374821841.\u001b[0m\n",
      "\u001b[32m[I 2022-07-14 00:51:45,504]\u001b[0m Trial 14 finished with value: 0.7693427487960338 and parameters: {'penalty': 'l2', 'solver': 'liblinear', 'C': 0.8679748655841912}. Best is trial 11 with value: 0.7839788374821841.\u001b[0m\n",
      "\u001b[32m[I 2022-07-14 00:51:47,121]\u001b[0m Trial 15 finished with value: 0.7811351721592688 and parameters: {'penalty': 'l2', 'solver': 'liblinear', 'C': 0.1853862074947234}. Best is trial 11 with value: 0.7839788374821841.\u001b[0m\n",
      "\u001b[32m[I 2022-07-14 00:51:48,348]\u001b[0m Trial 16 finished with value: 0.782797531738994 and parameters: {'penalty': 'l2', 'solver': 'liblinear', 'C': 0.017110192039932248}. Best is trial 11 with value: 0.7839788374821841.\u001b[0m\n",
      "\u001b[32m[I 2022-07-14 00:51:50,269]\u001b[0m Trial 17 finished with value: 0.7793483305753346 and parameters: {'penalty': 'l2', 'solver': 'liblinear', 'C': 0.2912217710861207}. Best is trial 11 with value: 0.7839788374821841.\u001b[0m\n",
      "\u001b[32m[I 2022-07-14 00:51:56,543]\u001b[0m Trial 18 finished with value: 0.7513530071517611 and parameters: {'penalty': 'l1', 'solver': 'saga', 'C': 0.01377155667334018}. Best is trial 11 with value: 0.7839788374821841.\u001b[0m\n",
      "\u001b[32m[I 2022-07-14 00:51:58,651]\u001b[0m Trial 19 finished with value: 0.7706169946428503 and parameters: {'penalty': 'l2', 'solver': 'liblinear', 'C': 0.627701367247537}. Best is trial 11 with value: 0.7839788374821841.\u001b[0m\n"
     ]
    },
    {
     "name": "stdout",
     "output_type": "stream",
     "text": [
      "Wall time: 1min 56s\n"
     ]
    }
   ],
   "source": [
    "%%time\n",
    "# cоздаем объект исследования\n",
    "study = optuna.create_study(study_name=\"LogisticRegression\", direction=\"maximize\")\n",
    "# ищем лучшую комбинацию гиперпараметров\n",
    "study.optimize(optuna_lr, n_trials=20)"
   ]
  },
  {
   "cell_type": "code",
   "execution_count": 12,
   "metadata": {},
   "outputs": [
    {
     "name": "stdout",
     "output_type": "stream",
     "text": [
      "Наилучшие значения гиперпараметров {'penalty': 'l2', 'solver': 'liblinear', 'C': 0.026985557254051287}\n",
      "f1_score на тестовом наборе: 0.79\n"
     ]
    }
   ],
   "source": [
    "# выводим результаты на обучающей выборке\n",
    "print(\"Наилучшие значения гиперпараметров {}\".format(study.best_params))\n",
    "# рассчитаем точность для тестовой выборки\n",
    "model = linear_model.LogisticRegression(**study.best_params,random_state=random_state, )\n",
    "model.fit(X_train, y_train)\n",
    "y_test_pred = model.predict(X_test)\n",
    "print('f1_score на тестовом наборе: {:.2f}'.format(metrics.f1_score(y_test, y_test_pred)))"
   ]
  },
  {
   "cell_type": "markdown",
   "metadata": {},
   "source": [
    "**Удалось улучшить метрику за меньшее время по сравнению с GridSearchCV и RandomizedSearchCV**"
   ]
  },
  {
   "cell_type": "markdown",
   "metadata": {},
   "source": [
    "# <center> Случайный лес"
   ]
  },
  {
   "cell_type": "markdown",
   "metadata": {},
   "source": [
    "Обучим модель с гиперпараметрами по умолчанию и рассчитаем метрику f1"
   ]
  },
  {
   "cell_type": "code",
   "execution_count": 13,
   "metadata": {},
   "outputs": [
    {
     "name": "stdout",
     "output_type": "stream",
     "text": [
      "f1_score на тестовом наборе: 0.81\n"
     ]
    }
   ],
   "source": [
    "# создаем объект класса Случайный лес\n",
    "rf = ensemble.RandomForestClassifier(random_state=42)\n",
    "\n",
    "# обучаем модель\n",
    "rf.fit(X_train, y_train)\n",
    "# выводим значение метрики \n",
    "y_test_pred = rf.predict(X_test)\n",
    "print('f1_score на тестовом наборе: {:.2f}'.format(metrics.f1_score(y_test, y_test_pred)))"
   ]
  },
  {
   "cell_type": "markdown",
   "metadata": {},
   "source": [
    "## RandomizedSearchCV"
   ]
  },
  {
   "cell_type": "code",
   "execution_count": 14,
   "metadata": {},
   "outputs": [
    {
     "name": "stdout",
     "output_type": "stream",
     "text": [
      "Wall time: 20.9 s\n",
      "f1_score на тестовом наборе: 0.82\n",
      "Наилучшие значения гиперпараметров: {'n_estimators': 130, 'min_samples_leaf': 5, 'max_depth': 20}\n"
     ]
    }
   ],
   "source": [
    "param_grid = {'n_estimators': list(range(100, 200, 30)),\n",
    "              'min_samples_leaf': [5, 7],\n",
    "              'max_depth': list(range(10, 25, 5))\n",
    "              }\n",
    "            \n",
    "random_search_forest = RandomizedSearchCV(\n",
    "    estimator=ensemble.RandomForestClassifier(random_state=42), \n",
    "    param_distributions=param_grid, \n",
    "    cv=5,\n",
    "    n_iter = 10, \n",
    "    n_jobs = -1\n",
    ")  \n",
    "%time random_search_forest.fit(X_train, y_train) \n",
    "y_train_pred = random_search_forest.predict(X_train)\n",
    "y_test_pred = random_search_forest.predict(X_test)\n",
    "print('f1_score на тестовом наборе: {:.2f}'.format(metrics.f1_score(y_test, y_test_pred)))\n",
    "print(\"Наилучшие значения гиперпараметров: {}\".format(random_search_forest.best_params_))"
   ]
  },
  {
   "cell_type": "markdown",
   "metadata": {},
   "source": [
    "**Удалось улучшить метрику**"
   ]
  },
  {
   "cell_type": "markdown",
   "metadata": {},
   "source": [
    "## Hyperopt"
   ]
  },
  {
   "cell_type": "code",
   "execution_count": 15,
   "metadata": {},
   "outputs": [],
   "source": [
    "# зададим пространство поиска гиперпараметров\n",
    "space={'n_estimators': hp.quniform('n_estimators', 100, 200, 1),\n",
    "       'max_depth' : hp.quniform('max_depth', 15, 26, 1),\n",
    "       'min_samples_leaf': hp.quniform('min_samples_leaf', 2, 10, 1)\n",
    "      }"
   ]
  },
  {
   "cell_type": "code",
   "execution_count": 16,
   "metadata": {},
   "outputs": [],
   "source": [
    "# зафксируем random_state\n",
    "random_state = 42\n",
    "def hyperopt_rf(params, cv=5, X=X_train, y=y_train, random_state=random_state):\n",
    "    # функция получает комбинацию гиперпараметров в \"params\"\n",
    "    params = {'n_estimators': int(params['n_estimators']), \n",
    "              'max_depth': int(params['max_depth']), \n",
    "              'min_samples_leaf': int(params['min_samples_leaf'])\n",
    "              }\n",
    "  \n",
    "    # используем эту комбинацию для построения модели\n",
    "    model = ensemble.RandomForestClassifier(**params, random_state=random_state)\n",
    "\n",
    "    # обучаем модель\n",
    "    model.fit(X, y)\n",
    "    \n",
    "    # применяем кросс-валидацию\n",
    "    score = cross_val_score(model, X, y, cv=cv, scoring=\"f1\", n_jobs=-1).mean()\n",
    "\n",
    "    return -score"
   ]
  },
  {
   "cell_type": "code",
   "execution_count": 18,
   "metadata": {},
   "outputs": [
    {
     "name": "stdout",
     "output_type": "stream",
     "text": [
      "100%|███████████████████████████████████████████████| 20/20 [02:22<00:00,  7.13s/trial, best loss: -0.8080577050312506]\n",
      "Наилучшие значения гиперпараметров {'max_depth': 18.0, 'min_samples_leaf': 2.0, 'n_estimators': 103.0}\n",
      "Wall time: 2min 22s\n"
     ]
    }
   ],
   "source": [
    "%%time\n",
    "\n",
    "trials = Trials() # используется для логирования результатов\n",
    "\n",
    "best=fmin(hyperopt_rf, # наша функция \n",
    "          space=space, # пространство гиперпараметров\n",
    "          algo=tpe.suggest, # алгоритм оптимизации, установлен по умолчанию, задавать необязательно\n",
    "          max_evals=20, # максимальное количество итераций\n",
    "          trials=trials, # логирование результатов\n",
    "          rstate=np.random.default_rng(random_state)# фиксируем для повторяемости результата\n",
    "         )\n",
    "print(\"Наилучшие значения гиперпараметров {}\".format(best))"
   ]
  },
  {
   "cell_type": "code",
   "execution_count": 19,
   "metadata": {},
   "outputs": [
    {
     "name": "stdout",
     "output_type": "stream",
     "text": [
      "f1_score на тестовом наборе: 0.82\n"
     ]
    }
   ],
   "source": [
    "# рассчитаем f1 для тестовой выборки\n",
    "model = ensemble.RandomForestClassifier(\n",
    "    random_state=random_state, \n",
    "    n_estimators=int(best['n_estimators']),\n",
    "    max_depth=int(best['max_depth']),\n",
    "    min_samples_leaf=int(best['min_samples_leaf'])\n",
    ")\n",
    "model.fit(X_train, y_train)\n",
    "y_test_pred = model.predict(X_test)\n",
    "print('f1_score на тестовом наборе: {:.2f}'.format(metrics.f1_score(y_test, y_test_pred)))"
   ]
  },
  {
   "cell_type": "code",
   "execution_count": 20,
   "metadata": {},
   "outputs": [
    {
     "name": "stdout",
     "output_type": "stream",
     "text": [
      "100%|███████████████████████████████████████████████| 40/40 [02:58<00:00,  8.93s/trial, best loss: -0.8120423125971236]\n",
      "Наилучшие значения гиперпараметров {'max_depth': 20.0, 'min_samples_leaf': 2.0, 'n_estimators': 160.0}\n"
     ]
    }
   ],
   "source": [
    "# продолжаем подбор\n",
    "best=fmin(hyperopt_rf, # наша функция \n",
    "          space=space, # пространство гиперпараметров\n",
    "          algo=tpe.suggest, # алгоритм оптимизации, установлен по умолчанию, задавать необязательно\n",
    "          max_evals=40, # максимальное количество итераций\n",
    "          trials=trials, # логирование результатов\n",
    "          rstate=np.random.default_rng(random_state)# фиксируем для повторяемости результата\n",
    "         )\n",
    "print(\"Наилучшие значения гиперпараметров {}\".format(best))"
   ]
  },
  {
   "cell_type": "code",
   "execution_count": 21,
   "metadata": {},
   "outputs": [
    {
     "name": "stdout",
     "output_type": "stream",
     "text": [
      "f1_score на тестовом наборе: 0.83\n"
     ]
    }
   ],
   "source": [
    "# пересчитаем f1 для тестовой выборки\n",
    "model = ensemble.RandomForestClassifier(\n",
    "    random_state=random_state, \n",
    "    n_estimators=int(best['n_estimators']),\n",
    "    max_depth=int(best['max_depth']),\n",
    "    min_samples_leaf=int(best['min_samples_leaf'])\n",
    ")\n",
    "model.fit(X_train, y_train)\n",
    "y_test_pred = model.predict(X_test)\n",
    "print('f1_score на тестовом наборе: {:.2f}'.format(metrics.f1_score(y_test, y_test_pred)))"
   ]
  },
  {
   "cell_type": "markdown",
   "metadata": {},
   "source": [
    "**Удалось ещё улучшить результат**"
   ]
  },
  {
   "cell_type": "markdown",
   "metadata": {},
   "source": [
    "## Optuna"
   ]
  },
  {
   "cell_type": "code",
   "execution_count": 24,
   "metadata": {},
   "outputs": [],
   "source": [
    "def optuna_rf(trial):\n",
    "  # задаем пространства поиска гиперпараметров\n",
    "  n_estimators = trial.suggest_int('n_estimators', 100, 200, 1)\n",
    "  max_depth = trial.suggest_int('max_depth', 10, 30, 1)\n",
    "  min_samples_leaf = trial.suggest_int('min_samples_leaf', 2, 10, 1)\n",
    "\n",
    "  # создаем модель\n",
    "  model = ensemble.RandomForestClassifier(n_estimators=n_estimators,\n",
    "                                          max_depth=max_depth,\n",
    "                                          min_samples_leaf=min_samples_leaf,\n",
    "                                          random_state=random_state)\n",
    "  # обучаем модель\n",
    "  model.fit(X_train, y_train)\n",
    "    \n",
    "  # применяем кросс-валидацию\n",
    "  score = cross_val_score(model, X, y, cv=5, scoring=\"f1\", n_jobs=-1).mean()\n",
    "\n",
    "  return score"
   ]
  },
  {
   "cell_type": "code",
   "execution_count": 25,
   "metadata": {},
   "outputs": [
    {
     "name": "stderr",
     "output_type": "stream",
     "text": [
      "\u001b[32m[I 2022-07-14 01:20:16,465]\u001b[0m A new study created in memory with name: RandomForestClassifier\u001b[0m\n",
      "\u001b[32m[I 2022-07-14 01:20:22,420]\u001b[0m Trial 0 finished with value: 0.795046795903416 and parameters: {'n_estimators': 117, 'max_depth': 17, 'min_samples_leaf': 10}. Best is trial 0 with value: 0.795046795903416.\u001b[0m\n",
      "\u001b[32m[I 2022-07-14 01:20:30,285]\u001b[0m Trial 1 finished with value: 0.8069717805146268 and parameters: {'n_estimators': 132, 'max_depth': 26, 'min_samples_leaf': 7}. Best is trial 1 with value: 0.8069717805146268.\u001b[0m\n",
      "\u001b[32m[I 2022-07-14 01:20:37,634]\u001b[0m Trial 2 finished with value: 0.8128575206918857 and parameters: {'n_estimators': 103, 'max_depth': 12, 'min_samples_leaf': 2}. Best is trial 2 with value: 0.8128575206918857.\u001b[0m\n",
      "\u001b[32m[I 2022-07-14 01:20:46,529]\u001b[0m Trial 3 finished with value: 0.7927257982144186 and parameters: {'n_estimators': 175, 'max_depth': 18, 'min_samples_leaf': 10}. Best is trial 2 with value: 0.8128575206918857.\u001b[0m\n",
      "\u001b[32m[I 2022-07-14 01:20:53,961]\u001b[0m Trial 4 finished with value: 0.7988019937547387 and parameters: {'n_estimators': 149, 'max_depth': 15, 'min_samples_leaf': 9}. Best is trial 2 with value: 0.8128575206918857.\u001b[0m\n",
      "\u001b[32m[I 2022-07-14 01:21:02,517]\u001b[0m Trial 5 finished with value: 0.812384810648106 and parameters: {'n_estimators': 128, 'max_depth': 24, 'min_samples_leaf': 2}. Best is trial 2 with value: 0.8128575206918857.\u001b[0m\n",
      "\u001b[32m[I 2022-07-14 01:21:12,381]\u001b[0m Trial 6 finished with value: 0.7955749378589776 and parameters: {'n_estimators': 195, 'max_depth': 21, 'min_samples_leaf': 10}. Best is trial 2 with value: 0.8128575206918857.\u001b[0m\n",
      "\u001b[32m[I 2022-07-14 01:21:21,864]\u001b[0m Trial 7 finished with value: 0.803580881104731 and parameters: {'n_estimators': 171, 'max_depth': 22, 'min_samples_leaf': 6}. Best is trial 2 with value: 0.8128575206918857.\u001b[0m\n",
      "\u001b[32m[I 2022-07-14 01:21:29,998]\u001b[0m Trial 8 finished with value: 0.8048858617678991 and parameters: {'n_estimators': 140, 'max_depth': 23, 'min_samples_leaf': 5}. Best is trial 2 with value: 0.8128575206918857.\u001b[0m\n",
      "\u001b[32m[I 2022-07-14 01:21:37,276]\u001b[0m Trial 9 finished with value: 0.796922870818546 and parameters: {'n_estimators': 152, 'max_depth': 14, 'min_samples_leaf': 10}. Best is trial 2 with value: 0.8128575206918857.\u001b[0m\n",
      "\u001b[32m[I 2022-07-14 01:21:43,456]\u001b[0m Trial 10 finished with value: 0.8114898974293896 and parameters: {'n_estimators': 106, 'max_depth': 12, 'min_samples_leaf': 2}. Best is trial 2 with value: 0.8128575206918857.\u001b[0m\n",
      "\u001b[32m[I 2022-07-14 01:21:50,413]\u001b[0m Trial 11 finished with value: 0.814135610471794 and parameters: {'n_estimators': 103, 'max_depth': 29, 'min_samples_leaf': 2}. Best is trial 11 with value: 0.814135610471794.\u001b[0m\n",
      "\u001b[32m[I 2022-07-14 01:21:56,570]\u001b[0m Trial 12 finished with value: 0.8086058134924754 and parameters: {'n_estimators': 101, 'max_depth': 30, 'min_samples_leaf': 4}. Best is trial 11 with value: 0.814135610471794.\u001b[0m\n",
      "\u001b[32m[I 2022-07-14 01:22:03,088]\u001b[0m Trial 13 finished with value: 0.8116838354220584 and parameters: {'n_estimators': 115, 'max_depth': 30, 'min_samples_leaf': 3}. Best is trial 11 with value: 0.814135610471794.\u001b[0m\n",
      "\u001b[32m[I 2022-07-14 01:22:08,245]\u001b[0m Trial 14 finished with value: 0.801427330919479 and parameters: {'n_estimators': 100, 'max_depth': 10, 'min_samples_leaf': 4}. Best is trial 11 with value: 0.814135610471794.\u001b[0m\n",
      "\u001b[32m[I 2022-07-14 01:22:15,747]\u001b[0m Trial 15 finished with value: 0.8099965890467244 and parameters: {'n_estimators': 119, 'max_depth': 27, 'min_samples_leaf': 3}. Best is trial 11 with value: 0.814135610471794.\u001b[0m\n",
      "\u001b[32m[I 2022-07-14 01:22:21,655]\u001b[0m Trial 16 finished with value: 0.8041099791740957 and parameters: {'n_estimators': 113, 'max_depth': 19, 'min_samples_leaf': 7}. Best is trial 11 with value: 0.814135610471794.\u001b[0m\n",
      "\u001b[32m[I 2022-07-14 01:22:28,243]\u001b[0m Trial 17 finished with value: 0.8005282332326035 and parameters: {'n_estimators': 130, 'max_depth': 10, 'min_samples_leaf': 2}. Best is trial 11 with value: 0.814135610471794.\u001b[0m\n",
      "\u001b[32m[I 2022-07-14 01:22:38,056]\u001b[0m Trial 18 finished with value: 0.8064115003841742 and parameters: {'n_estimators': 163, 'max_depth': 27, 'min_samples_leaf': 4}. Best is trial 11 with value: 0.814135610471794.\u001b[0m\n",
      "\u001b[32m[I 2022-07-14 01:22:49,294]\u001b[0m Trial 19 finished with value: 0.8148591363142641 and parameters: {'n_estimators': 187, 'max_depth': 16, 'min_samples_leaf': 3}. Best is trial 19 with value: 0.8148591363142641.\u001b[0m\n"
     ]
    },
    {
     "name": "stdout",
     "output_type": "stream",
     "text": [
      "Wall time: 2min 32s\n"
     ]
    }
   ],
   "source": [
    "%%time\n",
    "# cоздаем объект исследования\n",
    "# можем напрямую указать, что нам необходимо максимизировать метрику direction=\"maximize\"\n",
    "study = optuna.create_study(study_name=\"RandomForestClassifier\", direction=\"maximize\")\n",
    "# ищем лучшую комбинацию гиперпараметров n_trials раз\n",
    "study.optimize(optuna_rf, n_trials=20)"
   ]
  },
  {
   "cell_type": "code",
   "execution_count": 26,
   "metadata": {},
   "outputs": [
    {
     "name": "stdout",
     "output_type": "stream",
     "text": [
      "Наилучшие значения гиперпараметров {'n_estimators': 187, 'max_depth': 16, 'min_samples_leaf': 3}\n",
      "f1_score на тестовом наборе: 0.82\n"
     ]
    }
   ],
   "source": [
    "# выводим результаты на обучающей выборке\n",
    "print(\"Наилучшие значения гиперпараметров {}\".format(study.best_params))\n",
    "# рассчитаем точность для тестовой выборки\n",
    "model = ensemble.RandomForestClassifier(**study.best_params,random_state=random_state, )\n",
    "model.fit(X_train, y_train)\n",
    "y_test_pred = model.predict(X_test)\n",
    "print('f1_score на тестовом наборе: {:.2f}'.format(metrics.f1_score(y_test, y_test_pred)))"
   ]
  },
  {
   "cell_type": "code",
   "execution_count": 27,
   "metadata": {},
   "outputs": [
    {
     "name": "stderr",
     "output_type": "stream",
     "text": [
      "\u001b[32m[I 2022-07-14 01:24:09,349]\u001b[0m Trial 20 finished with value: 0.8110540184428856 and parameters: {'n_estimators': 199, 'max_depth': 17, 'min_samples_leaf': 3}. Best is trial 19 with value: 0.8148591363142641.\u001b[0m\n",
      "\u001b[32m[I 2022-07-14 01:24:21,616]\u001b[0m Trial 21 finished with value: 0.8108658778192256 and parameters: {'n_estimators': 185, 'max_depth': 14, 'min_samples_leaf': 2}. Best is trial 19 with value: 0.8148591363142641.\u001b[0m\n",
      "\u001b[32m[I 2022-07-14 01:24:31,268]\u001b[0m Trial 22 finished with value: 0.8057383176304042 and parameters: {'n_estimators': 159, 'max_depth': 12, 'min_samples_leaf': 3}. Best is trial 19 with value: 0.8148591363142641.\u001b[0m\n",
      "\u001b[32m[I 2022-07-14 01:24:42,645]\u001b[0m Trial 23 finished with value: 0.8080664171298781 and parameters: {'n_estimators': 186, 'max_depth': 16, 'min_samples_leaf': 5}. Best is trial 19 with value: 0.8148591363142641.\u001b[0m\n",
      "\u001b[32m[I 2022-07-14 01:24:49,621]\u001b[0m Trial 24 finished with value: 0.8121011089366286 and parameters: {'n_estimators': 109, 'max_depth': 12, 'min_samples_leaf': 2}. Best is trial 19 with value: 0.8148591363142641.\u001b[0m\n",
      "\u001b[32m[I 2022-07-14 01:24:58,155]\u001b[0m Trial 25 finished with value: 0.8099219993790004 and parameters: {'n_estimators': 123, 'max_depth': 20, 'min_samples_leaf': 3}. Best is trial 19 with value: 0.8148591363142641.\u001b[0m\n",
      "\u001b[32m[I 2022-07-14 01:25:06,629]\u001b[0m Trial 26 finished with value: 0.8069581727348428 and parameters: {'n_estimators': 141, 'max_depth': 14, 'min_samples_leaf': 5}. Best is trial 19 with value: 0.8148591363142641.\u001b[0m\n",
      "\u001b[32m[I 2022-07-14 01:25:14,794]\u001b[0m Trial 27 finished with value: 0.8054809720107935 and parameters: {'n_estimators': 139, 'max_depth': 12, 'min_samples_leaf': 4}. Best is trial 19 with value: 0.8148591363142641.\u001b[0m\n",
      "\u001b[32m[I 2022-07-14 01:25:22,849]\u001b[0m Trial 28 finished with value: 0.8119052382020339 and parameters: {'n_estimators': 109, 'max_depth': 19, 'min_samples_leaf': 2}. Best is trial 19 with value: 0.8148591363142641.\u001b[0m\n",
      "\u001b[32m[I 2022-07-14 01:25:31,275]\u001b[0m Trial 29 finished with value: 0.8084266533521699 and parameters: {'n_estimators': 122, 'max_depth': 16, 'min_samples_leaf': 3}. Best is trial 19 with value: 0.8148591363142641.\u001b[0m\n",
      "\u001b[32m[I 2022-07-14 01:25:40,976]\u001b[0m Trial 30 finished with value: 0.8016516915283391 and parameters: {'n_estimators': 177, 'max_depth': 25, 'min_samples_leaf': 8}. Best is trial 19 with value: 0.8148591363142641.\u001b[0m\n",
      "\u001b[32m[I 2022-07-14 01:25:50,429]\u001b[0m Trial 31 finished with value: 0.812384810648106 and parameters: {'n_estimators': 128, 'max_depth': 24, 'min_samples_leaf': 2}. Best is trial 19 with value: 0.8148591363142641.\u001b[0m\n",
      "\u001b[32m[I 2022-07-14 01:25:58,165]\u001b[0m Trial 32 finished with value: 0.8133662732128965 and parameters: {'n_estimators': 105, 'max_depth': 29, 'min_samples_leaf': 2}. Best is trial 19 with value: 0.8148591363142641.\u001b[0m\n",
      "\u001b[32m[I 2022-07-14 01:26:05,612]\u001b[0m Trial 33 finished with value: 0.811443670832493 and parameters: {'n_estimators': 106, 'max_depth': 28, 'min_samples_leaf': 3}. Best is trial 19 with value: 0.8148591363142641.\u001b[0m\n",
      "\u001b[32m[I 2022-07-14 01:26:13,106]\u001b[0m Trial 34 finished with value: 0.815202848552557 and parameters: {'n_estimators': 100, 'max_depth': 28, 'min_samples_leaf': 2}. Best is trial 34 with value: 0.815202848552557.\u001b[0m\n",
      "\u001b[32m[I 2022-07-14 01:26:20,814]\u001b[0m Trial 35 finished with value: 0.8090927987802653 and parameters: {'n_estimators': 117, 'max_depth': 29, 'min_samples_leaf': 4}. Best is trial 34 with value: 0.815202848552557.\u001b[0m\n",
      "\u001b[32m[I 2022-07-14 01:26:29,191]\u001b[0m Trial 36 finished with value: 0.8130607718586045 and parameters: {'n_estimators': 112, 'max_depth': 26, 'min_samples_leaf': 2}. Best is trial 34 with value: 0.815202848552557.\u001b[0m\n",
      "\u001b[32m[I 2022-07-14 01:26:36,641]\u001b[0m Trial 37 finished with value: 0.8128928387450749 and parameters: {'n_estimators': 104, 'max_depth': 29, 'min_samples_leaf': 3}. Best is trial 34 with value: 0.815202848552557.\u001b[0m\n",
      "\u001b[32m[I 2022-07-14 01:26:44,881]\u001b[0m Trial 38 finished with value: 0.8016378762318108 and parameters: {'n_estimators': 136, 'max_depth': 28, 'min_samples_leaf': 6}. Best is trial 34 with value: 0.815202848552557.\u001b[0m\n",
      "\u001b[32m[I 2022-07-14 01:26:55,674]\u001b[0m Trial 39 finished with value: 0.8141510491664807 and parameters: {'n_estimators': 151, 'max_depth': 26, 'min_samples_leaf': 2}. Best is trial 34 with value: 0.815202848552557.\u001b[0m\n"
     ]
    },
    {
     "name": "stdout",
     "output_type": "stream",
     "text": [
      "Wall time: 2min 59s\n"
     ]
    }
   ],
   "source": [
    "%%time\n",
    "#продолжим подбор \n",
    "study.optimize(optuna_rf, n_trials=20)"
   ]
  },
  {
   "cell_type": "code",
   "execution_count": 29,
   "metadata": {},
   "outputs": [
    {
     "name": "stdout",
     "output_type": "stream",
     "text": [
      "Наилучшие значения гиперпараметров {'n_estimators': 100, 'max_depth': 28, 'min_samples_leaf': 2}\n",
      "f1_score на тестовом наборе: 0.82\n"
     ]
    }
   ],
   "source": [
    "# выводим результаты на обучающей выборке\n",
    "print(\"Наилучшие значения гиперпараметров {}\".format(study.best_params))\n",
    "# рассчитаем точность для тестовой выборки\n",
    "model = ensemble.RandomForestClassifier(**study.best_params,random_state=random_state, )\n",
    "model.fit(X_train, y_train)\n",
    "y_test_pred = model.predict(X_test)\n",
    "print('f1_score на тестовом наборе: {:.2f}'.format(metrics.f1_score(y_test, y_test_pred)))"
   ]
  },
  {
   "cell_type": "code",
   "execution_count": null,
   "metadata": {},
   "outputs": [],
   "source": [
    "Наилучший результат показала модель Случайный лес с параметрами \n",
    "{'max_depth': 20.0, 'min_samples_leaf': 2.0, 'n_estimators': 160.0}.\n",
    "Данные параметры были подобраны алгоритмом "
   ]
  }
 ],
 "metadata": {
  "kernelspec": {
   "display_name": "Python 3",
   "language": "python",
   "name": "python3"
  },
  "language_info": {
   "codemirror_mode": {
    "name": "ipython",
    "version": 3
   },
   "file_extension": ".py",
   "mimetype": "text/x-python",
   "name": "python",
   "nbconvert_exporter": "python",
   "pygments_lexer": "ipython3",
   "version": "3.8.5"
  }
 },
 "nbformat": 4,
 "nbformat_minor": 4
}
